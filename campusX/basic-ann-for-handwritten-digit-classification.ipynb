{
 "cells": [
  {
   "cell_type": "code",
   "execution_count": 1,
   "id": "c678da17",
   "metadata": {
    "execution": {
     "iopub.execute_input": "2025-05-05T17:55:14.245254Z",
     "iopub.status.busy": "2025-05-05T17:55:14.244922Z",
     "iopub.status.idle": "2025-05-05T17:55:34.808086Z",
     "shell.execute_reply": "2025-05-05T17:55:34.807083Z"
    },
    "id": "nCv197i7X2TK",
    "papermill": {
     "duration": 20.571541,
     "end_time": "2025-05-05T17:55:34.810181",
     "exception": false,
     "start_time": "2025-05-05T17:55:14.238640",
     "status": "completed"
    },
    "tags": []
   },
   "outputs": [
    {
     "name": "stderr",
     "output_type": "stream",
     "text": [
      "2025-05-05 17:55:16.260049: E external/local_xla/xla/stream_executor/cuda/cuda_fft.cc:477] Unable to register cuFFT factory: Attempting to register factory for plugin cuFFT when one has already been registered\n",
      "WARNING: All log messages before absl::InitializeLog() is called are written to STDERR\n",
      "E0000 00:00:1746467716.568297      13 cuda_dnn.cc:8310] Unable to register cuDNN factory: Attempting to register factory for plugin cuDNN when one has already been registered\n",
      "E0000 00:00:1746467716.648553      13 cuda_blas.cc:1418] Unable to register cuBLAS factory: Attempting to register factory for plugin cuBLAS when one has already been registered\n"
     ]
    }
   ],
   "source": [
    "import tensorflow\n",
    "from tensorflow import keras\n",
    "from tensorflow.keras.models import Sequential\n",
    "from tensorflow.keras.layers import Dense, Flatten, Input"
   ]
  },
  {
   "cell_type": "code",
   "execution_count": 2,
   "id": "884c67ef",
   "metadata": {
    "execution": {
     "iopub.execute_input": "2025-05-05T17:55:34.820185Z",
     "iopub.status.busy": "2025-05-05T17:55:34.819572Z",
     "iopub.status.idle": "2025-05-05T17:55:35.307292Z",
     "shell.execute_reply": "2025-05-05T17:55:35.306226Z"
    },
    "id": "NuKQwA9PZK1l",
    "papermill": {
     "duration": 0.494825,
     "end_time": "2025-05-05T17:55:35.309374",
     "exception": false,
     "start_time": "2025-05-05T17:55:34.814549",
     "status": "completed"
    },
    "tags": []
   },
   "outputs": [
    {
     "name": "stdout",
     "output_type": "stream",
     "text": [
      "Downloading data from https://storage.googleapis.com/tensorflow/tf-keras-datasets/mnist.npz\n",
      "\u001b[1m11490434/11490434\u001b[0m \u001b[32m━━━━━━━━━━━━━━━━━━━━\u001b[0m\u001b[37m\u001b[0m \u001b[1m0s\u001b[0m 0us/step\n"
     ]
    }
   ],
   "source": [
    "(X_train, y_train), (X_test, y_test) = keras.datasets.mnist.load_data()"
   ]
  },
  {
   "cell_type": "code",
   "execution_count": 3,
   "id": "3e082548",
   "metadata": {
    "execution": {
     "iopub.execute_input": "2025-05-05T17:55:35.319214Z",
     "iopub.status.busy": "2025-05-05T17:55:35.318828Z",
     "iopub.status.idle": "2025-05-05T17:55:35.325377Z",
     "shell.execute_reply": "2025-05-05T17:55:35.324611Z"
    },
    "id": "zmGSZaARZYx8",
    "outputId": "5e91bf56-d30c-4419-9b7c-93f528b7923f",
    "papermill": {
     "duration": 0.013052,
     "end_time": "2025-05-05T17:55:35.326733",
     "exception": false,
     "start_time": "2025-05-05T17:55:35.313681",
     "status": "completed"
    },
    "tags": []
   },
   "outputs": [
    {
     "data": {
      "text/plain": [
       "(60000, 28, 28)"
      ]
     },
     "execution_count": 3,
     "metadata": {},
     "output_type": "execute_result"
    }
   ],
   "source": [
    "X_train.shape"
   ]
  },
  {
   "cell_type": "code",
   "execution_count": 4,
   "id": "0b3d2f2f",
   "metadata": {
    "execution": {
     "iopub.execute_input": "2025-05-05T17:55:35.336855Z",
     "iopub.status.busy": "2025-05-05T17:55:35.336464Z",
     "iopub.status.idle": "2025-05-05T17:55:35.345440Z",
     "shell.execute_reply": "2025-05-05T17:55:35.344456Z"
    },
    "id": "pvtCdlpvZbt0",
    "outputId": "162f33a2-100d-45af-fe49-59a2cd7e029b",
    "papermill": {
     "duration": 0.01571,
     "end_time": "2025-05-05T17:55:35.346974",
     "exception": false,
     "start_time": "2025-05-05T17:55:35.331264",
     "status": "completed"
    },
    "tags": []
   },
   "outputs": [
    {
     "data": {
      "text/plain": [
       "array([[[0, 0, 0, ..., 0, 0, 0],\n",
       "        [0, 0, 0, ..., 0, 0, 0],\n",
       "        [0, 0, 0, ..., 0, 0, 0],\n",
       "        ...,\n",
       "        [0, 0, 0, ..., 0, 0, 0],\n",
       "        [0, 0, 0, ..., 0, 0, 0],\n",
       "        [0, 0, 0, ..., 0, 0, 0]],\n",
       "\n",
       "       [[0, 0, 0, ..., 0, 0, 0],\n",
       "        [0, 0, 0, ..., 0, 0, 0],\n",
       "        [0, 0, 0, ..., 0, 0, 0],\n",
       "        ...,\n",
       "        [0, 0, 0, ..., 0, 0, 0],\n",
       "        [0, 0, 0, ..., 0, 0, 0],\n",
       "        [0, 0, 0, ..., 0, 0, 0]],\n",
       "\n",
       "       [[0, 0, 0, ..., 0, 0, 0],\n",
       "        [0, 0, 0, ..., 0, 0, 0],\n",
       "        [0, 0, 0, ..., 0, 0, 0],\n",
       "        ...,\n",
       "        [0, 0, 0, ..., 0, 0, 0],\n",
       "        [0, 0, 0, ..., 0, 0, 0],\n",
       "        [0, 0, 0, ..., 0, 0, 0]],\n",
       "\n",
       "       ...,\n",
       "\n",
       "       [[0, 0, 0, ..., 0, 0, 0],\n",
       "        [0, 0, 0, ..., 0, 0, 0],\n",
       "        [0, 0, 0, ..., 0, 0, 0],\n",
       "        ...,\n",
       "        [0, 0, 0, ..., 0, 0, 0],\n",
       "        [0, 0, 0, ..., 0, 0, 0],\n",
       "        [0, 0, 0, ..., 0, 0, 0]],\n",
       "\n",
       "       [[0, 0, 0, ..., 0, 0, 0],\n",
       "        [0, 0, 0, ..., 0, 0, 0],\n",
       "        [0, 0, 0, ..., 0, 0, 0],\n",
       "        ...,\n",
       "        [0, 0, 0, ..., 0, 0, 0],\n",
       "        [0, 0, 0, ..., 0, 0, 0],\n",
       "        [0, 0, 0, ..., 0, 0, 0]],\n",
       "\n",
       "       [[0, 0, 0, ..., 0, 0, 0],\n",
       "        [0, 0, 0, ..., 0, 0, 0],\n",
       "        [0, 0, 0, ..., 0, 0, 0],\n",
       "        ...,\n",
       "        [0, 0, 0, ..., 0, 0, 0],\n",
       "        [0, 0, 0, ..., 0, 0, 0],\n",
       "        [0, 0, 0, ..., 0, 0, 0]]], dtype=uint8)"
      ]
     },
     "execution_count": 4,
     "metadata": {},
     "output_type": "execute_result"
    }
   ],
   "source": [
    "X_train"
   ]
  },
  {
   "cell_type": "code",
   "execution_count": 5,
   "id": "40f48c56",
   "metadata": {
    "execution": {
     "iopub.execute_input": "2025-05-05T17:55:35.364506Z",
     "iopub.status.busy": "2025-05-05T17:55:35.364137Z",
     "iopub.status.idle": "2025-05-05T17:55:35.373190Z",
     "shell.execute_reply": "2025-05-05T17:55:35.371877Z"
    },
    "id": "TEqg5_mpZikU",
    "outputId": "88f9e408-babe-43e4-8e1d-64769903eea4",
    "papermill": {
     "duration": 0.01991,
     "end_time": "2025-05-05T17:55:35.374994",
     "exception": false,
     "start_time": "2025-05-05T17:55:35.355084",
     "status": "completed"
    },
    "tags": []
   },
   "outputs": [
    {
     "data": {
      "text/plain": [
       "array([[  0,   0,   0,   0,   0,   0,   0,   0,   0,   0,   0,   0,   0,\n",
       "          0,   0,   0,   0,   0,   0,   0,   0,   0,   0,   0,   0,   0,\n",
       "          0,   0],\n",
       "       [  0,   0,   0,   0,   0,   0,   0,   0,   0,   0,   0,   0,   0,\n",
       "          0,   0,   0,   0,   0,   0,   0,   0,   0,   0,   0,   0,   0,\n",
       "          0,   0],\n",
       "       [  0,   0,   0,   0,   0,   0,   0,   0,   0,   0,   0,   0,   0,\n",
       "          0,   0,   0,   0,   0,   0,   0,   0,   0,   0,   0,   0,   0,\n",
       "          0,   0],\n",
       "       [  0,   0,   0,   0,   0,   0,   0,   0,   0,   0,   0,   0,   0,\n",
       "          0,   0,   0,   0,   0,   0,   0,   0,   0,   0,   0,   0,   0,\n",
       "          0,   0],\n",
       "       [  0,   0,   0,   0,   0,   0,   0,   0,   0,   0,   0,   0,   0,\n",
       "          0,   0,   0,   0,   0,   0,   0,   0,   0,   0,   0,   0,   0,\n",
       "          0,   0],\n",
       "       [  0,   0,   0,   0,   0,   0,   0,   0,   0,   0,   0,   0,   3,\n",
       "         18,  18,  18, 126, 136, 175,  26, 166, 255, 247, 127,   0,   0,\n",
       "          0,   0],\n",
       "       [  0,   0,   0,   0,   0,   0,   0,   0,  30,  36,  94, 154, 170,\n",
       "        253, 253, 253, 253, 253, 225, 172, 253, 242, 195,  64,   0,   0,\n",
       "          0,   0],\n",
       "       [  0,   0,   0,   0,   0,   0,   0,  49, 238, 253, 253, 253, 253,\n",
       "        253, 253, 253, 253, 251,  93,  82,  82,  56,  39,   0,   0,   0,\n",
       "          0,   0],\n",
       "       [  0,   0,   0,   0,   0,   0,   0,  18, 219, 253, 253, 253, 253,\n",
       "        253, 198, 182, 247, 241,   0,   0,   0,   0,   0,   0,   0,   0,\n",
       "          0,   0],\n",
       "       [  0,   0,   0,   0,   0,   0,   0,   0,  80, 156, 107, 253, 253,\n",
       "        205,  11,   0,  43, 154,   0,   0,   0,   0,   0,   0,   0,   0,\n",
       "          0,   0],\n",
       "       [  0,   0,   0,   0,   0,   0,   0,   0,   0,  14,   1, 154, 253,\n",
       "         90,   0,   0,   0,   0,   0,   0,   0,   0,   0,   0,   0,   0,\n",
       "          0,   0],\n",
       "       [  0,   0,   0,   0,   0,   0,   0,   0,   0,   0,   0, 139, 253,\n",
       "        190,   2,   0,   0,   0,   0,   0,   0,   0,   0,   0,   0,   0,\n",
       "          0,   0],\n",
       "       [  0,   0,   0,   0,   0,   0,   0,   0,   0,   0,   0,  11, 190,\n",
       "        253,  70,   0,   0,   0,   0,   0,   0,   0,   0,   0,   0,   0,\n",
       "          0,   0],\n",
       "       [  0,   0,   0,   0,   0,   0,   0,   0,   0,   0,   0,   0,  35,\n",
       "        241, 225, 160, 108,   1,   0,   0,   0,   0,   0,   0,   0,   0,\n",
       "          0,   0],\n",
       "       [  0,   0,   0,   0,   0,   0,   0,   0,   0,   0,   0,   0,   0,\n",
       "         81, 240, 253, 253, 119,  25,   0,   0,   0,   0,   0,   0,   0,\n",
       "          0,   0],\n",
       "       [  0,   0,   0,   0,   0,   0,   0,   0,   0,   0,   0,   0,   0,\n",
       "          0,  45, 186, 253, 253, 150,  27,   0,   0,   0,   0,   0,   0,\n",
       "          0,   0],\n",
       "       [  0,   0,   0,   0,   0,   0,   0,   0,   0,   0,   0,   0,   0,\n",
       "          0,   0,  16,  93, 252, 253, 187,   0,   0,   0,   0,   0,   0,\n",
       "          0,   0],\n",
       "       [  0,   0,   0,   0,   0,   0,   0,   0,   0,   0,   0,   0,   0,\n",
       "          0,   0,   0,   0, 249, 253, 249,  64,   0,   0,   0,   0,   0,\n",
       "          0,   0],\n",
       "       [  0,   0,   0,   0,   0,   0,   0,   0,   0,   0,   0,   0,   0,\n",
       "          0,  46, 130, 183, 253, 253, 207,   2,   0,   0,   0,   0,   0,\n",
       "          0,   0],\n",
       "       [  0,   0,   0,   0,   0,   0,   0,   0,   0,   0,   0,   0,  39,\n",
       "        148, 229, 253, 253, 253, 250, 182,   0,   0,   0,   0,   0,   0,\n",
       "          0,   0],\n",
       "       [  0,   0,   0,   0,   0,   0,   0,   0,   0,   0,  24, 114, 221,\n",
       "        253, 253, 253, 253, 201,  78,   0,   0,   0,   0,   0,   0,   0,\n",
       "          0,   0],\n",
       "       [  0,   0,   0,   0,   0,   0,   0,   0,  23,  66, 213, 253, 253,\n",
       "        253, 253, 198,  81,   2,   0,   0,   0,   0,   0,   0,   0,   0,\n",
       "          0,   0],\n",
       "       [  0,   0,   0,   0,   0,   0,  18, 171, 219, 253, 253, 253, 253,\n",
       "        195,  80,   9,   0,   0,   0,   0,   0,   0,   0,   0,   0,   0,\n",
       "          0,   0],\n",
       "       [  0,   0,   0,   0,  55, 172, 226, 253, 253, 253, 253, 244, 133,\n",
       "         11,   0,   0,   0,   0,   0,   0,   0,   0,   0,   0,   0,   0,\n",
       "          0,   0],\n",
       "       [  0,   0,   0,   0, 136, 253, 253, 253, 212, 135, 132,  16,   0,\n",
       "          0,   0,   0,   0,   0,   0,   0,   0,   0,   0,   0,   0,   0,\n",
       "          0,   0],\n",
       "       [  0,   0,   0,   0,   0,   0,   0,   0,   0,   0,   0,   0,   0,\n",
       "          0,   0,   0,   0,   0,   0,   0,   0,   0,   0,   0,   0,   0,\n",
       "          0,   0],\n",
       "       [  0,   0,   0,   0,   0,   0,   0,   0,   0,   0,   0,   0,   0,\n",
       "          0,   0,   0,   0,   0,   0,   0,   0,   0,   0,   0,   0,   0,\n",
       "          0,   0],\n",
       "       [  0,   0,   0,   0,   0,   0,   0,   0,   0,   0,   0,   0,   0,\n",
       "          0,   0,   0,   0,   0,   0,   0,   0,   0,   0,   0,   0,   0,\n",
       "          0,   0]], dtype=uint8)"
      ]
     },
     "execution_count": 5,
     "metadata": {},
     "output_type": "execute_result"
    }
   ],
   "source": [
    "X_train[0]"
   ]
  },
  {
   "cell_type": "code",
   "execution_count": 6,
   "id": "57fa6549",
   "metadata": {
    "execution": {
     "iopub.execute_input": "2025-05-05T17:55:35.386504Z",
     "iopub.status.busy": "2025-05-05T17:55:35.386225Z",
     "iopub.status.idle": "2025-05-05T17:55:35.392295Z",
     "shell.execute_reply": "2025-05-05T17:55:35.391285Z"
    },
    "id": "lquwzDdVZrPE",
    "outputId": "0c39519f-9fc5-4a28-c536-55130930c09e",
    "papermill": {
     "duration": 0.013476,
     "end_time": "2025-05-05T17:55:35.394156",
     "exception": false,
     "start_time": "2025-05-05T17:55:35.380680",
     "status": "completed"
    },
    "tags": []
   },
   "outputs": [
    {
     "data": {
      "text/plain": [
       "(28, 28)"
      ]
     },
     "execution_count": 6,
     "metadata": {},
     "output_type": "execute_result"
    }
   ],
   "source": [
    "X_train[0].shape"
   ]
  },
  {
   "cell_type": "code",
   "execution_count": 7,
   "id": "0c91585b",
   "metadata": {
    "execution": {
     "iopub.execute_input": "2025-05-05T17:55:35.404715Z",
     "iopub.status.busy": "2025-05-05T17:55:35.404400Z",
     "iopub.status.idle": "2025-05-05T17:55:35.691957Z",
     "shell.execute_reply": "2025-05-05T17:55:35.691049Z"
    },
    "id": "mPa26R_vZvHj",
    "outputId": "ee59f16f-fbf0-4874-fda3-c86c59ea4209",
    "papermill": {
     "duration": 0.294562,
     "end_time": "2025-05-05T17:55:35.693485",
     "exception": false,
     "start_time": "2025-05-05T17:55:35.398923",
     "status": "completed"
    },
    "tags": []
   },
   "outputs": [
    {
     "data": {
      "text/plain": [
       "<matplotlib.image.AxesImage at 0x7acdbb7348d0>"
      ]
     },
     "execution_count": 7,
     "metadata": {},
     "output_type": "execute_result"
    },
    {
     "data": {
      "image/png": "[encoded data removed]",
      "text/plain": [
       "<Figure size 640x480 with 1 Axes>"
      ]
     },
     "metadata": {},
     "output_type": "display_data"
    }
   ],
   "source": [
    "import matplotlib.pyplot as plt\n",
    "plt.imshow(X_train[0])"
   ]
  },
  {
   "cell_type": "code",
   "execution_count": 8,
   "id": "07783393",
   "metadata": {
    "execution": {
     "iopub.execute_input": "2025-05-05T17:55:35.705158Z",
     "iopub.status.busy": "2025-05-05T17:55:35.704757Z",
     "iopub.status.idle": "2025-05-05T17:55:35.813351Z",
     "shell.execute_reply": "2025-05-05T17:55:35.812216Z"
    },
    "id": "VZuni7foaEcE",
    "outputId": "85689a26-f7db-4ba2-af22-3a1696a42a2c",
    "papermill": {
     "duration": 0.117484,
     "end_time": "2025-05-05T17:55:35.815921",
     "exception": false,
     "start_time": "2025-05-05T17:55:35.698437",
     "status": "completed"
    },
    "tags": []
   },
   "outputs": [
    {
     "name": "stderr",
     "output_type": "stream",
     "text": [
      "/usr/local/lib/python3.11/dist-packages/keras/src/layers/reshaping/flatten.py:37: UserWarning: Do not pass an `input_shape`/`input_dim` argument to a layer. When using Sequential models, prefer using an `Input(shape)` object as the first layer in the model instead.\n",
      "  super().__init__(**kwargs)\n",
      "2025-05-05 17:55:35.723056: E external/local_xla/xla/stream_executor/cuda/cuda_driver.cc:152] failed call to cuInit: INTERNAL: CUDA error: Failed call to cuInit: UNKNOWN ERROR (303)\n"
     ]
    }
   ],
   "source": [
    "model = Sequential()\n",
    "\n",
    "model.add(Flatten(input_shape = (28, 28)))\n",
    "model.add(Dense(128, activation = 'relu'))\n",
    "model.add(Dense(32, activation = 'relu'))\n",
    "model.add(Dense(10, activation = 'softmax'))\n",
    "# if there are more than 1 outputs then we use softmax function for classification"
   ]
  },
  {
   "cell_type": "code",
   "execution_count": 9,
   "id": "42957522",
   "metadata": {
    "execution": {
     "iopub.execute_input": "2025-05-05T17:55:35.831045Z",
     "iopub.status.busy": "2025-05-05T17:55:35.830292Z",
     "iopub.status.idle": "2025-05-05T17:55:35.847449Z",
     "shell.execute_reply": "2025-05-05T17:55:35.846554Z"
    },
    "id": "uQVY7ZtDeRwW",
    "outputId": "50efd2b9-87a0-4b15-dda3-5ce8503150a7",
    "papermill": {
     "duration": 0.025171,
     "end_time": "2025-05-05T17:55:35.849022",
     "exception": false,
     "start_time": "2025-05-05T17:55:35.823851",
     "status": "completed"
    },
    "tags": []
   },
   "outputs": [
    {
     "data": {
      "text/html": [
       "<pre style=\"white-space:pre;overflow-x:auto;line-height:normal;font-family:Menlo,'DejaVu Sans Mono',consolas,'Courier New',monospace\"><span style=\"font-weight: bold\">Model: \"sequential\"</span>\n",
       "</pre>\n"
      ],
      "text/plain": [
       "\u001b[1mModel: \"sequential\"\u001b[0m\n"
      ]
     },
     "metadata": {},
     "output_type": "display_data"
    },
    {
     "data": {
      "text/html": [
       "<pre style=\"white-space:pre;overflow-x:auto;line-height:normal;font-family:Menlo,'DejaVu Sans Mono',consolas,'Courier New',monospace\">┏━━━━━━━━━━━━━━━━━━━━━━━━━━━━━━━━━━━━━━┳━━━━━━━━━━━━━━━━━━━━━━━━━━━━━┳━━━━━━━━━━━━━━━━━┓\n",
       "┃<span style=\"font-weight: bold\"> Layer (type)                         </span>┃<span style=\"font-weight: bold\"> Output Shape                </span>┃<span style=\"font-weight: bold\">         Param # </span>┃\n",
       "┡━━━━━━━━━━━━━━━━━━━━━━━━━━━━━━━━━━━━━━╇━━━━━━━━━━━━━━━━━━━━━━━━━━━━━╇━━━━━━━━━━━━━━━━━┩\n",
       "│ flatten (<span style=\"color: #0087ff; text-decoration-color: #0087ff\">Flatten</span>)                    │ (<span style=\"color: #00d7ff; text-decoration-color: #00d7ff\">None</span>, <span style=\"color: #00af00; text-decoration-color: #00af00\">784</span>)                 │               <span style=\"color: #00af00; text-decoration-color: #00af00\">0</span> │\n",
       "├──────────────────────────────────────┼─────────────────────────────┼─────────────────┤\n",
       "│ dense (<span style=\"color: #0087ff; text-decoration-color: #0087ff\">Dense</span>)                        │ (<span style=\"color: #00d7ff; text-decoration-color: #00d7ff\">None</span>, <span style=\"color: #00af00; text-decoration-color: #00af00\">128</span>)                 │         <span style=\"color: #00af00; text-decoration-color: #00af00\">100,480</span> │\n",
       "├──────────────────────────────────────┼─────────────────────────────┼─────────────────┤\n",
       "│ dense_1 (<span style=\"color: #0087ff; text-decoration-color: #0087ff\">Dense</span>)                      │ (<span style=\"color: #00d7ff; text-decoration-color: #00d7ff\">None</span>, <span style=\"color: #00af00; text-decoration-color: #00af00\">32</span>)                  │           <span style=\"color: #00af00; text-decoration-color: #00af00\">4,128</span> │\n",
       "├──────────────────────────────────────┼─────────────────────────────┼─────────────────┤\n",
       "│ dense_2 (<span style=\"color: #0087ff; text-decoration-color: #0087ff\">Dense</span>)                      │ (<span style=\"color: #00d7ff; text-decoration-color: #00d7ff\">None</span>, <span style=\"color: #00af00; text-decoration-color: #00af00\">10</span>)                  │             <span style=\"color: #00af00; text-decoration-color: #00af00\">330</span> │\n",
       "└──────────────────────────────────────┴─────────────────────────────┴─────────────────┘\n",
       "</pre>\n"
      ],
      "text/plain": [
       "┏━━━━━━━━━━━━━━━━━━━━━━━━━━━━━━━━━━━━━━┳━━━━━━━━━━━━━━━━━━━━━━━━━━━━━┳━━━━━━━━━━━━━━━━━┓\n",
       "┃\u001b[1m \u001b[0m\u001b[1mLayer (type)                        \u001b[0m\u001b[1m \u001b[0m┃\u001b[1m \u001b[0m\u001b[1mOutput Shape               \u001b[0m\u001b[1m \u001b[0m┃\u001b[1m \u001b[0m\u001b[1m        Param #\u001b[0m\u001b[1m \u001b[0m┃\n",
       "┡━━━━━━━━━━━━━━━━━━━━━━━━━━━━━━━━━━━━━━╇━━━━━━━━━━━━━━━━━━━━━━━━━━━━━╇━━━━━━━━━━━━━━━━━┩\n",
       "│ flatten (\u001b[38;5;33mFlatten\u001b[0m)                    │ (\u001b[38;5;45mNone\u001b[0m, \u001b[38;5;34m784\u001b[0m)                 │               \u001b[38;5;34m0\u001b[0m │\n",
       "├──────────────────────────────────────┼─────────────────────────────┼─────────────────┤\n",
       "│ dense (\u001b[38;5;33mDense\u001b[0m)                        │ (\u001b[38;5;45mNone\u001b[0m, \u001b[38;5;34m128\u001b[0m)                 │         \u001b[38;5;34m100,480\u001b[0m │\n",
       "├──────────────────────────────────────┼─────────────────────────────┼─────────────────┤\n",
       "│ dense_1 (\u001b[38;5;33mDense\u001b[0m)                      │ (\u001b[38;5;45mNone\u001b[0m, \u001b[38;5;34m32\u001b[0m)                  │           \u001b[38;5;34m4,128\u001b[0m │\n",
       "├──────────────────────────────────────┼─────────────────────────────┼─────────────────┤\n",
       "│ dense_2 (\u001b[38;5;33mDense\u001b[0m)                      │ (\u001b[38;5;45mNone\u001b[0m, \u001b[38;5;34m10\u001b[0m)                  │             \u001b[38;5;34m330\u001b[0m │\n",
       "└──────────────────────────────────────┴─────────────────────────────┴─────────────────┘\n"
      ]
     },
     "metadata": {},
     "output_type": "display_data"
    },
    {
     "data": {
      "text/html": [
       "<pre style=\"white-space:pre;overflow-x:auto;line-height:normal;font-family:Menlo,'DejaVu Sans Mono',consolas,'Courier New',monospace\"><span style=\"font-weight: bold\"> Total params: </span><span style=\"color: #00af00; text-decoration-color: #00af00\">104,938</span> (409.91 KB)\n",
       "</pre>\n"
      ],
      "text/plain": [
       "\u001b[1m Total params: \u001b[0m\u001b[38;5;34m104,938\u001b[0m (409.91 KB)\n"
      ]
     },
     "metadata": {},
     "output_type": "display_data"
    },
    {
     "data": {
      "text/html": [
       "<pre style=\"white-space:pre;overflow-x:auto;line-height:normal;font-family:Menlo,'DejaVu Sans Mono',consolas,'Courier New',monospace\"><span style=\"font-weight: bold\"> Trainable params: </span><span style=\"color: #00af00; text-decoration-color: #00af00\">104,938</span> (409.91 KB)\n",
       "</pre>\n"
      ],
      "text/plain": [
       "\u001b[1m Trainable params: \u001b[0m\u001b[38;5;34m104,938\u001b[0m (409.91 KB)\n"
      ]
     },
     "metadata": {},
     "output_type": "display_data"
    },
    {
     "data": {
      "text/html": [
       "<pre style=\"white-space:pre;overflow-x:auto;line-height:normal;font-family:Menlo,'DejaVu Sans Mono',consolas,'Courier New',monospace\"><span style=\"font-weight: bold\"> Non-trainable params: </span><span style=\"color: #00af00; text-decoration-color: #00af00\">0</span> (0.00 B)\n",
       "</pre>\n"
      ],
      "text/plain": [
       "\u001b[1m Non-trainable params: \u001b[0m\u001b[38;5;34m0\u001b[0m (0.00 B)\n"
      ]
     },
     "metadata": {},
     "output_type": "display_data"
    }
   ],
   "source": [
    "model.summary()"
   ]
  },
  {
   "cell_type": "code",
   "execution_count": 10,
   "id": "3042c226",
   "metadata": {
    "execution": {
     "iopub.execute_input": "2025-05-05T17:55:35.861560Z",
     "iopub.status.busy": "2025-05-05T17:55:35.861210Z",
     "iopub.status.idle": "2025-05-05T17:55:35.878946Z",
     "shell.execute_reply": "2025-05-05T17:55:35.877549Z"
    },
    "id": "HohcOBzHeXTy",
    "papermill": {
     "duration": 0.026725,
     "end_time": "2025-05-05T17:55:35.881359",
     "exception": false,
     "start_time": "2025-05-05T17:55:35.854634",
     "status": "completed"
    },
    "tags": []
   },
   "outputs": [],
   "source": [
    "model.compile(loss = 'sparse_categorical_crossentropy', optimizer = 'Adam', metrics = ['accuracy'])"
   ]
  },
  {
   "cell_type": "code",
   "execution_count": 11,
   "id": "46412857",
   "metadata": {
    "execution": {
     "iopub.execute_input": "2025-05-05T17:55:35.905993Z",
     "iopub.status.busy": "2025-05-05T17:55:35.905224Z",
     "iopub.status.idle": "2025-05-05T17:57:47.925021Z",
     "shell.execute_reply": "2025-05-05T17:57:47.923878Z"
    },
    "id": "VM1UTCN2fGDR",
    "outputId": "64ffe585-a296-4d41-b08a-e586f4c84667",
    "papermill": {
     "duration": 132.036599,
     "end_time": "2025-05-05T17:57:47.927426",
     "exception": false,
     "start_time": "2025-05-05T17:55:35.890827",
     "status": "completed"
    },
    "tags": []
   },
   "outputs": [
    {
     "name": "stdout",
     "output_type": "stream",
     "text": [
      "Epoch 1/25\n",
      "\u001b[1m1500/1500\u001b[0m \u001b[32m━━━━━━━━━━━━━━━━━━━━\u001b[0m\u001b[37m\u001b[0m \u001b[1m8s\u001b[0m 4ms/step - accuracy: 0.4879 - loss: 4.7905 - val_accuracy: 0.7073 - val_loss: 0.9204\n",
      "Epoch 2/25\n",
      "\u001b[1m1500/1500\u001b[0m \u001b[32m━━━━━━━━━━━━━━━━━━━━\u001b[0m\u001b[37m\u001b[0m \u001b[1m5s\u001b[0m 3ms/step - accuracy: 0.7472 - loss: 0.8475 - val_accuracy: 0.8309 - val_loss: 0.7259\n",
      "Epoch 3/25\n",
      "\u001b[1m1500/1500\u001b[0m \u001b[32m━━━━━━━━━━━━━━━━━━━━\u001b[0m\u001b[37m\u001b[0m \u001b[1m5s\u001b[0m 3ms/step - accuracy: 0.8698 - loss: 0.5106 - val_accuracy: 0.9325 - val_loss: 0.2987\n",
      "Epoch 4/25\n",
      "\u001b[1m1500/1500\u001b[0m \u001b[32m━━━━━━━━━━━━━━━━━━━━\u001b[0m\u001b[37m\u001b[0m \u001b[1m5s\u001b[0m 3ms/step - accuracy: 0.9350 - loss: 0.2651 - val_accuracy: 0.9506 - val_loss: 0.1974\n",
      "Epoch 5/25\n",
      "\u001b[1m1500/1500\u001b[0m \u001b[32m━━━━━━━━━━━━━━━━━━━━\u001b[0m\u001b[37m\u001b[0m \u001b[1m5s\u001b[0m 3ms/step - accuracy: 0.9516 - loss: 0.1763 - val_accuracy: 0.9542 - val_loss: 0.1803\n",
      "Epoch 6/25\n",
      "\u001b[1m1500/1500\u001b[0m \u001b[32m━━━━━━━━━━━━━━━━━━━━\u001b[0m\u001b[37m\u001b[0m \u001b[1m5s\u001b[0m 3ms/step - accuracy: 0.9596 - loss: 0.1468 - val_accuracy: 0.9578 - val_loss: 0.1615\n",
      "Epoch 7/25\n",
      "\u001b[1m1500/1500\u001b[0m \u001b[32m━━━━━━━━━━━━━━━━━━━━\u001b[0m\u001b[37m\u001b[0m \u001b[1m5s\u001b[0m 3ms/step - accuracy: 0.9686 - loss: 0.1158 - val_accuracy: 0.9552 - val_loss: 0.1987\n",
      "Epoch 8/25\n",
      "\u001b[1m1500/1500\u001b[0m \u001b[32m━━━━━━━━━━━━━━━━━━━━\u001b[0m\u001b[37m\u001b[0m \u001b[1m5s\u001b[0m 3ms/step - accuracy: 0.9708 - loss: 0.1068 - val_accuracy: 0.9477 - val_loss: 0.2009\n",
      "Epoch 9/25\n",
      "\u001b[1m1500/1500\u001b[0m \u001b[32m━━━━━━━━━━━━━━━━━━━━\u001b[0m\u001b[37m\u001b[0m \u001b[1m5s\u001b[0m 3ms/step - accuracy: 0.9734 - loss: 0.0968 - val_accuracy: 0.9685 - val_loss: 0.1369\n",
      "Epoch 10/25\n",
      "\u001b[1m1500/1500\u001b[0m \u001b[32m━━━━━━━━━━━━━━━━━━━━\u001b[0m\u001b[37m\u001b[0m \u001b[1m5s\u001b[0m 3ms/step - accuracy: 0.9788 - loss: 0.0784 - val_accuracy: 0.9643 - val_loss: 0.1582\n",
      "Epoch 11/25\n",
      "\u001b[1m1500/1500\u001b[0m \u001b[32m━━━━━━━━━━━━━━━━━━━━\u001b[0m\u001b[37m\u001b[0m \u001b[1m5s\u001b[0m 3ms/step - accuracy: 0.9796 - loss: 0.0742 - val_accuracy: 0.9599 - val_loss: 0.1897\n",
      "Epoch 12/25\n",
      "\u001b[1m1500/1500\u001b[0m \u001b[32m━━━━━━━━━━━━━━━━━━━━\u001b[0m\u001b[37m\u001b[0m \u001b[1m5s\u001b[0m 3ms/step - accuracy: 0.9791 - loss: 0.0776 - val_accuracy: 0.9578 - val_loss: 0.2085\n",
      "Epoch 13/25\n",
      "\u001b[1m1500/1500\u001b[0m \u001b[32m━━━━━━━━━━━━━━━━━━━━\u001b[0m\u001b[37m\u001b[0m \u001b[1m5s\u001b[0m 3ms/step - accuracy: 0.9823 - loss: 0.0647 - val_accuracy: 0.9570 - val_loss: 0.2520\n",
      "Epoch 14/25\n",
      "\u001b[1m1500/1500\u001b[0m \u001b[32m━━━━━━━━━━━━━━━━━━━━\u001b[0m\u001b[37m\u001b[0m \u001b[1m5s\u001b[0m 3ms/step - accuracy: 0.9826 - loss: 0.0701 - val_accuracy: 0.9637 - val_loss: 0.2042\n",
      "Epoch 15/25\n",
      "\u001b[1m1500/1500\u001b[0m \u001b[32m━━━━━━━━━━━━━━━━━━━━\u001b[0m\u001b[37m\u001b[0m \u001b[1m5s\u001b[0m 4ms/step - accuracy: 0.9841 - loss: 0.0572 - val_accuracy: 0.9623 - val_loss: 0.1799\n",
      "Epoch 16/25\n",
      "\u001b[1m1500/1500\u001b[0m \u001b[32m━━━━━━━━━━━━━━━━━━━━\u001b[0m\u001b[37m\u001b[0m \u001b[1m5s\u001b[0m 3ms/step - accuracy: 0.9845 - loss: 0.0569 - val_accuracy: 0.9614 - val_loss: 0.2478\n",
      "Epoch 17/25\n",
      "\u001b[1m1500/1500\u001b[0m \u001b[32m━━━━━━━━━━━━━━━━━━━━\u001b[0m\u001b[37m\u001b[0m \u001b[1m6s\u001b[0m 4ms/step - accuracy: 0.9842 - loss: 0.0581 - val_accuracy: 0.9697 - val_loss: 0.1783\n",
      "Epoch 18/25\n",
      "\u001b[1m1500/1500\u001b[0m \u001b[32m━━━━━━━━━━━━━━━━━━━━\u001b[0m\u001b[37m\u001b[0m \u001b[1m5s\u001b[0m 3ms/step - accuracy: 0.9868 - loss: 0.0490 - val_accuracy: 0.9654 - val_loss: 0.2054\n",
      "Epoch 19/25\n",
      "\u001b[1m1500/1500\u001b[0m \u001b[32m━━━━━━━━━━━━━━━━━━━━\u001b[0m\u001b[37m\u001b[0m \u001b[1m5s\u001b[0m 4ms/step - accuracy: 0.9867 - loss: 0.0529 - val_accuracy: 0.9618 - val_loss: 0.2207\n",
      "Epoch 20/25\n",
      "\u001b[1m1500/1500\u001b[0m \u001b[32m━━━━━━━━━━━━━━━━━━━━\u001b[0m\u001b[37m\u001b[0m \u001b[1m5s\u001b[0m 3ms/step - accuracy: 0.9876 - loss: 0.0505 - val_accuracy: 0.9670 - val_loss: 0.2223\n",
      "Epoch 21/25\n",
      "\u001b[1m1500/1500\u001b[0m \u001b[32m━━━━━━━━━━━━━━━━━━━━\u001b[0m\u001b[37m\u001b[0m \u001b[1m5s\u001b[0m 4ms/step - accuracy: 0.9884 - loss: 0.0454 - val_accuracy: 0.9686 - val_loss: 0.2193\n",
      "Epoch 22/25\n",
      "\u001b[1m1500/1500\u001b[0m \u001b[32m━━━━━━━━━━━━━━━━━━━━\u001b[0m\u001b[37m\u001b[0m \u001b[1m5s\u001b[0m 3ms/step - accuracy: 0.9875 - loss: 0.0491 - val_accuracy: 0.9671 - val_loss: 0.2066\n",
      "Epoch 23/25\n",
      "\u001b[1m1500/1500\u001b[0m \u001b[32m━━━━━━━━━━━━━━━━━━━━\u001b[0m\u001b[37m\u001b[0m \u001b[1m5s\u001b[0m 3ms/step - accuracy: 0.9869 - loss: 0.0516 - val_accuracy: 0.9633 - val_loss: 0.2611\n",
      "Epoch 24/25\n",
      "\u001b[1m1500/1500\u001b[0m \u001b[32m━━━━━━━━━━━━━━━━━━━━\u001b[0m\u001b[37m\u001b[0m \u001b[1m5s\u001b[0m 3ms/step - accuracy: 0.9886 - loss: 0.0457 - val_accuracy: 0.9646 - val_loss: 0.2107\n",
      "Epoch 25/25\n",
      "\u001b[1m1500/1500\u001b[0m \u001b[32m━━━━━━━━━━━━━━━━━━━━\u001b[0m\u001b[37m\u001b[0m \u001b[1m6s\u001b[0m 4ms/step - accuracy: 0.9896 - loss: 0.0420 - val_accuracy: 0.9650 - val_loss: 0.2614\n"
     ]
    }
   ],
   "source": [
    "history = model.fit(X_train, y_train, epochs=25, validation_split=0.2)"
   ]
  },
  {
   "cell_type": "code",
   "execution_count": 12,
   "id": "0b768299",
   "metadata": {
    "execution": {
     "iopub.execute_input": "2025-05-05T17:57:48.164925Z",
     "iopub.status.busy": "2025-05-05T17:57:48.163590Z",
     "iopub.status.idle": "2025-05-05T17:57:49.052503Z",
     "shell.execute_reply": "2025-05-05T17:57:49.051470Z"
    },
    "id": "c8yLlaJrfT7x",
    "outputId": "fa0abbc8-f0ba-4e08-9901-b9c90b5c9321",
    "papermill": {
     "duration": 1.00987,
     "end_time": "2025-05-05T17:57:49.054461",
     "exception": false,
     "start_time": "2025-05-05T17:57:48.044591",
     "status": "completed"
    },
    "tags": []
   },
   "outputs": [
    {
     "name": "stdout",
     "output_type": "stream",
     "text": [
      "\u001b[1m313/313\u001b[0m \u001b[32m━━━━━━━━━━━━━━━━━━━━\u001b[0m\u001b[37m\u001b[0m \u001b[1m1s\u001b[0m 2ms/step\n"
     ]
    },
    {
     "data": {
      "text/plain": [
       "array([[3.33826046e-34, 1.03427394e-21, 4.42551757e-25, ...,\n",
       "        9.99999940e-01, 1.15709066e-29, 1.07286368e-15],\n",
       "       [4.85517772e-11, 1.94368119e-10, 9.99992192e-01, ...,\n",
       "        5.84984582e-06, 1.88935371e-06, 3.03409586e-21],\n",
       "       [4.49468942e-20, 9.99999940e-01, 2.36725698e-16, ...,\n",
       "        2.51542739e-16, 2.92019256e-11, 1.27913622e-23],\n",
       "       ...,\n",
       "       [2.52325838e-24, 8.94336410e-11, 6.08241952e-18, ...,\n",
       "        5.05116150e-05, 6.67977594e-17, 6.82337122e-05],\n",
       "       [3.02723119e-27, 0.00000000e+00, 0.00000000e+00, ...,\n",
       "        0.00000000e+00, 1.36827554e-18, 1.41741977e-16],\n",
       "       [1.04235769e-05, 5.84001458e-11, 1.00710629e-07, ...,\n",
       "        2.45362864e-35, 2.42991476e-08, 6.68133935e-21]], dtype=float32)"
      ]
     },
     "execution_count": 12,
     "metadata": {},
     "output_type": "execute_result"
    }
   ],
   "source": [
    "model.predict(X_test)\n",
    "# this is giving the probability of every image for having all the digits 0-9\n",
    "# matlab ye batata h ek image ik 0 se 9 tk hone ki probqability kya h"
   ]
  },
  {
   "cell_type": "code",
   "execution_count": 13,
   "id": "bb43c0e4",
   "metadata": {
    "execution": {
     "iopub.execute_input": "2025-05-05T17:57:49.302577Z",
     "iopub.status.busy": "2025-05-05T17:57:49.302208Z",
     "iopub.status.idle": "2025-05-05T17:57:50.019030Z",
     "shell.execute_reply": "2025-05-05T17:57:50.018161Z"
    },
    "id": "0tJenYgUfoLl",
    "outputId": "475da78d-52a4-4c36-fcb8-837613618fd0",
    "papermill": {
     "duration": 0.846003,
     "end_time": "2025-05-05T17:57:50.020639",
     "exception": false,
     "start_time": "2025-05-05T17:57:49.174636",
     "status": "completed"
    },
    "tags": []
   },
   "outputs": [
    {
     "name": "stdout",
     "output_type": "stream",
     "text": [
      "\u001b[1m313/313\u001b[0m \u001b[32m━━━━━━━━━━━━━━━━━━━━\u001b[0m\u001b[37m\u001b[0m \u001b[1m1s\u001b[0m 2ms/step\n"
     ]
    }
   ],
   "source": [
    "y_prob = model.predict(X_test)"
   ]
  },
  {
   "cell_type": "code",
   "execution_count": 14,
   "id": "86d00550",
   "metadata": {
    "execution": {
     "iopub.execute_input": "2025-05-05T17:57:50.290566Z",
     "iopub.status.busy": "2025-05-05T17:57:50.290010Z",
     "iopub.status.idle": "2025-05-05T17:57:50.295008Z",
     "shell.execute_reply": "2025-05-05T17:57:50.293975Z"
    },
    "id": "Tg8JUp9xgTXi",
    "papermill": {
     "duration": 0.142893,
     "end_time": "2025-05-05T17:57:50.296707",
     "exception": false,
     "start_time": "2025-05-05T17:57:50.153814",
     "status": "completed"
    },
    "tags": []
   },
   "outputs": [],
   "source": [
    "# now for every array we have to findat which index position value is max\n",
    "y_pred = y_prob.argmax(axis=1)"
   ]
  },
  {
   "cell_type": "code",
   "execution_count": 15,
   "id": "6ff5f382",
   "metadata": {
    "execution": {
     "iopub.execute_input": "2025-05-05T17:57:50.570721Z",
     "iopub.status.busy": "2025-05-05T17:57:50.570303Z",
     "iopub.status.idle": "2025-05-05T17:57:51.979448Z",
     "shell.execute_reply": "2025-05-05T17:57:51.978558Z"
    },
    "id": "WudZXkf9g4PE",
    "outputId": "b36efb4f-5a9c-4f3f-f605-4298843e2df4",
    "papermill": {
     "duration": 1.536273,
     "end_time": "2025-05-05T17:57:51.980989",
     "exception": false,
     "start_time": "2025-05-05T17:57:50.444716",
     "status": "completed"
    },
    "tags": []
   },
   "outputs": [
    {
     "data": {
      "text/plain": [
       "0.9635"
      ]
     },
     "execution_count": 15,
     "metadata": {},
     "output_type": "execute_result"
    }
   ],
   "source": [
    "from sklearn.metrics import accuracy_score\n",
    "accuracy_score(y_test, y_pred)"
   ]
  },
  {
   "cell_type": "code",
   "execution_count": 16,
   "id": "98e01e52",
   "metadata": {
    "execution": {
     "iopub.execute_input": "2025-05-05T17:57:52.226520Z",
     "iopub.status.busy": "2025-05-05T17:57:52.225943Z",
     "iopub.status.idle": "2025-05-05T17:57:52.415126Z",
     "shell.execute_reply": "2025-05-05T17:57:52.414131Z"
    },
    "id": "B7kGWcYlhJvR",
    "outputId": "2dc0932f-7d00-4096-e1f0-1bc66239bfbe",
    "papermill": {
     "duration": 0.316346,
     "end_time": "2025-05-05T17:57:52.416590",
     "exception": false,
     "start_time": "2025-05-05T17:57:52.100244",
     "status": "completed"
    },
    "tags": []
   },
   "outputs": [
    {
     "data": {
      "text/plain": [
       "[<matplotlib.lines.Line2D at 0x7acd801d1390>]"
      ]
     },
     "execution_count": 16,
     "metadata": {},
     "output_type": "execute_result"
    },
    {
     "data": {
      "image/png": "[encoded data removed]",
      "text/plain": [
       "<Figure size 640x480 with 1 Axes>"
      ]
     },
     "metadata": {},
     "output_type": "display_data"
    }
   ],
   "source": [
    "plt.plot(history.history['loss'])\n",
    "plt.plot(history.history['val_loss'])"
   ]
  },
  {
   "cell_type": "code",
   "execution_count": 17,
   "id": "ece5e29c",
   "metadata": {
    "execution": {
     "iopub.execute_input": "2025-05-05T17:57:52.663416Z",
     "iopub.status.busy": "2025-05-05T17:57:52.663077Z",
     "iopub.status.idle": "2025-05-05T17:57:52.848829Z",
     "shell.execute_reply": "2025-05-05T17:57:52.847646Z"
    },
    "id": "HCJunmjsh3sQ",
    "outputId": "26603d64-5ace-4d28-cfd0-cb1f0bc599a6",
    "papermill": {
     "duration": 0.311633,
     "end_time": "2025-05-05T17:57:52.850620",
     "exception": false,
     "start_time": "2025-05-05T17:57:52.538987",
     "status": "completed"
    },
    "tags": []
   },
   "outputs": [
    {
     "data": {
      "text/plain": [
       "[<matplotlib.lines.Line2D at 0x7acd6b552a90>]"
      ]
     },
     "execution_count": 17,
     "metadata": {},
     "output_type": "execute_result"
    },
    {
     "data": {
      "image/png": "[encoded data removed]",
      "text/plain": [
       "<Figure size 640x480 with 1 Axes>"
      ]
     },
     "metadata": {},
     "output_type": "display_data"
    }
   ],
   "source": [
    "plt.plot(history.history['accuracy'])\n",
    "plt.plot(history.history['val_accuracy'])"
   ]
  },
  {
   "cell_type": "code",
   "execution_count": 18,
   "id": "2cecff15",
   "metadata": {
    "execution": {
     "iopub.execute_input": "2025-05-05T17:57:53.092956Z",
     "iopub.status.busy": "2025-05-05T17:57:53.092579Z",
     "iopub.status.idle": "2025-05-05T17:57:53.275599Z",
     "shell.execute_reply": "2025-05-05T17:57:53.274559Z"
    },
    "id": "zWQ3EJuUjXiA",
    "outputId": "18371adb-5046-4123-9424-98046530513d",
    "papermill": {
     "duration": 0.306653,
     "end_time": "2025-05-05T17:57:53.277250",
     "exception": false,
     "start_time": "2025-05-05T17:57:52.970597",
     "status": "completed"
    },
    "tags": []
   },
   "outputs": [
    {
     "data": {
      "text/plain": [
       "<matplotlib.image.AxesImage at 0x7acd6b3d5590>"
      ]
     },
     "execution_count": 18,
     "metadata": {},
     "output_type": "execute_result"
    },
    {
     "data": {
      "image/png": "[encoded data removed]",
      "text/plain": [
       "<Figure size 640x480 with 1 Axes>"
      ]
     },
     "metadata": {},
     "output_type": "display_data"
    }
   ],
   "source": [
    "plt.imshow(X_test[1120])"
   ]
  },
  {
   "cell_type": "code",
   "execution_count": 19,
   "id": "e6eaa2c0",
   "metadata": {
    "execution": {
     "iopub.execute_input": "2025-05-05T17:57:53.592288Z",
     "iopub.status.busy": "2025-05-05T17:57:53.591965Z",
     "iopub.status.idle": "2025-05-05T17:57:53.682044Z",
     "shell.execute_reply": "2025-05-05T17:57:53.681220Z"
    },
    "id": "JYqMQV0djchf",
    "outputId": "e25038d2-b545-4d5d-c516-c7871e46c5a1",
    "papermill": {
     "duration": 0.212559,
     "end_time": "2025-05-05T17:57:53.683839",
     "exception": false,
     "start_time": "2025-05-05T17:57:53.471280",
     "status": "completed"
    },
    "tags": []
   },
   "outputs": [
    {
     "name": "stdout",
     "output_type": "stream",
     "text": [
      "\u001b[1m1/1\u001b[0m \u001b[32m━━━━━━━━━━━━━━━━━━━━\u001b[0m\u001b[37m\u001b[0m \u001b[1m0s\u001b[0m 22ms/step\n"
     ]
    },
    {
     "data": {
      "text/plain": [
       "array([8])"
      ]
     },
     "execution_count": 19,
     "metadata": {},
     "output_type": "execute_result"
    }
   ],
   "source": [
    "model.predict(X_test[1120].reshape(1, 28, 28)).argmax(axis = 1)"
   ]
  },
  {
   "cell_type": "code",
   "execution_count": null,
   "id": "bba17a12",
   "metadata": {
    "id": "vwXRyedKjoTQ",
    "papermill": {
     "duration": 0.118416,
     "end_time": "2025-05-05T17:57:53.921692",
     "exception": false,
     "start_time": "2025-05-05T17:57:53.803276",
     "status": "completed"
    },
    "tags": []
   },
   "outputs": [],
   "source": []
  }
 ],
 "metadata": {
  "colab": {
   "provenance": []
  },
  "kaggle": {
   "accelerator": "none",
   "dataSources": [],
   "dockerImageVersionId": 31012,
   "isGpuEnabled": false,
   "isInternetEnabled": true,
   "language": "python",
   "sourceType": "notebook"
  },
  "kernelspec": {
   "display_name": "Python 3",
   "language": "python",
   "name": "python3"
  },
  "language_info": {
   "codemirror_mode": {
    "name": "ipython",
    "version": 3
   },
   "file_extension": ".py",
   "mimetype": "text/x-python",
   "name": "python",
   "nbconvert_exporter": "python",
   "pygments_lexer": "ipython3",
   "version": "3.11.11"
  },
  "papermill": {
   "default_parameters": {},
   "duration": 168.444891,
   "end_time": "2025-05-05T17:57:57.320706",
   "environment_variables": {},
   "exception": null,
   "input_path": "__notebook__.ipynb",
   "output_path": "__notebook__.ipynb",
   "parameters": {},
   "start_time": "2025-05-05T17:55:08.875815",
   "version": "2.6.0"
  }
 },
 "nbformat": 4,
 "nbformat_minor": 5
}

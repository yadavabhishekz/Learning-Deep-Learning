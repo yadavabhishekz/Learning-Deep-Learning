{
 "cells": [
  {
   "cell_type": "code",
   "execution_count": 1,
   "id": "ecd012c7",
   "metadata": {
    "_cell_guid": "b1076dfc-b9ad-4769-8c92-a6c4dae69d19",
    "_uuid": "8f2839f25d086af736a60e9eeb907d3b93b6e0e5",
    "execution": {
     "iopub.execute_input": "2025-05-09T16:25:49.275527Z",
     "iopub.status.busy": "2025-05-09T16:25:49.275192Z",
     "iopub.status.idle": "2025-05-09T16:25:51.481216Z",
     "shell.execute_reply": "2025-05-09T16:25:51.480179Z"
    },
    "papermill": {
     "duration": 2.213371,
     "end_time": "2025-05-09T16:25:51.482998",
     "exception": false,
     "start_time": "2025-05-09T16:25:49.269627",
     "status": "completed"
    },
    "tags": []
   },
   "outputs": [],
   "source": [
    "# This Python 3 environment comes with many helpful analytics libraries installed\n",
    "# It is defined by the kaggle/python Docker image: https://github.com/kaggle/docker-python\n",
    "# For example, here's several helpful packages to load\n",
    "\n",
    "import numpy as np # linear algebra\n",
    "import pandas as pd # data processing, CSV file I/O (e.g. pd.read_csv)\n",
    "\n",
    "# Input data files are available in the read-only \"../input/\" directory\n",
    "# For example, running this (by clicking run or pressing Shift+Enter) will list all files under the input directory\n",
    "\n",
    "import os\n",
    "for dirname, _, filenames in os.walk('/kaggle/input'):\n",
    "    for filename in filenames:\n",
    "        print(os.path.join(dirname, filename))\n",
    "\n",
    "# You can write up to 20GB to the current directory (/kaggle/working/) that gets preserved as output when you create a version using \"Save & Run All\" \n",
    "# You can also write temporary files to /kaggle/temp/, but they won't be saved outside of the current session"
   ]
  },
  {
   "cell_type": "code",
   "execution_count": 2,
   "id": "d91537a0",
   "metadata": {
    "execution": {
     "iopub.execute_input": "2025-05-09T16:25:51.492153Z",
     "iopub.status.busy": "2025-05-09T16:25:51.491724Z",
     "iopub.status.idle": "2025-05-09T16:25:51.500728Z",
     "shell.execute_reply": "2025-05-09T16:25:51.499832Z"
    },
    "papermill": {
     "duration": 0.015485,
     "end_time": "2025-05-09T16:25:51.502465",
     "exception": false,
     "start_time": "2025-05-09T16:25:51.486980",
     "status": "completed"
    },
    "tags": []
   },
   "outputs": [],
   "source": [
    "df = pd.DataFrame([[8, 8, 4], [7, 9, 5], [6, 10, 6], [5, 7, 12]], columns = ['cgpa', 'profile_score', 'lpa'])"
   ]
  },
  {
   "cell_type": "code",
   "execution_count": 3,
   "id": "05a63aa6",
   "metadata": {
    "execution": {
     "iopub.execute_input": "2025-05-09T16:25:51.510996Z",
     "iopub.status.busy": "2025-05-09T16:25:51.510681Z",
     "iopub.status.idle": "2025-05-09T16:25:51.537033Z",
     "shell.execute_reply": "2025-05-09T16:25:51.535563Z"
    },
    "papermill": {
     "duration": 0.032326,
     "end_time": "2025-05-09T16:25:51.538631",
     "exception": false,
     "start_time": "2025-05-09T16:25:51.506305",
     "status": "completed"
    },
    "tags": []
   },
   "outputs": [
    {
     "data": {
      "text/html": [
       "<div>\n",
       "<style scoped>\n",
       "    .dataframe tbody tr th:only-of-type {\n",
       "        vertical-align: middle;\n",
       "    }\n",
       "\n",
       "    .dataframe tbody tr th {\n",
       "        vertical-align: top;\n",
       "    }\n",
       "\n",
       "    .dataframe thead th {\n",
       "        text-align: right;\n",
       "    }\n",
       "</style>\n",
       "<table border=\"1\" class=\"dataframe\">\n",
       "  <thead>\n",
       "    <tr style=\"text-align: right;\">\n",
       "      <th></th>\n",
       "      <th>cgpa</th>\n",
       "      <th>profile_score</th>\n",
       "      <th>lpa</th>\n",
       "    </tr>\n",
       "  </thead>\n",
       "  <tbody>\n",
       "    <tr>\n",
       "      <th>0</th>\n",
       "      <td>8</td>\n",
       "      <td>8</td>\n",
       "      <td>4</td>\n",
       "    </tr>\n",
       "    <tr>\n",
       "      <th>1</th>\n",
       "      <td>7</td>\n",
       "      <td>9</td>\n",
       "      <td>5</td>\n",
       "    </tr>\n",
       "    <tr>\n",
       "      <th>2</th>\n",
       "      <td>6</td>\n",
       "      <td>10</td>\n",
       "      <td>6</td>\n",
       "    </tr>\n",
       "    <tr>\n",
       "      <th>3</th>\n",
       "      <td>5</td>\n",
       "      <td>7</td>\n",
       "      <td>12</td>\n",
       "    </tr>\n",
       "  </tbody>\n",
       "</table>\n",
       "</div>"
      ],
      "text/plain": [
       "   cgpa  profile_score  lpa\n",
       "0     8              8    4\n",
       "1     7              9    5\n",
       "2     6             10    6\n",
       "3     5              7   12"
      ]
     },
     "execution_count": 3,
     "metadata": {},
     "output_type": "execute_result"
    }
   ],
   "source": [
    "df"
   ]
  },
  {
   "cell_type": "code",
   "execution_count": 4,
   "id": "f6946ab5",
   "metadata": {
    "execution": {
     "iopub.execute_input": "2025-05-09T16:25:51.547802Z",
     "iopub.status.busy": "2025-05-09T16:25:51.547161Z",
     "iopub.status.idle": "2025-05-09T16:25:51.552710Z",
     "shell.execute_reply": "2025-05-09T16:25:51.551630Z"
    },
    "papermill": {
     "duration": 0.011648,
     "end_time": "2025-05-09T16:25:51.554175",
     "exception": false,
     "start_time": "2025-05-09T16:25:51.542527",
     "status": "completed"
    },
    "tags": []
   },
   "outputs": [],
   "source": [
    "def initialize_parameters(layer_dims):\n",
    "    np.random.seed(3)\n",
    "    parameters = {}\n",
    "    L = len(layer_dims)\n",
    "\n",
    "    for l in range(1, L):\n",
    "        parameters['W' + str(l)] = np.ones((layer_dims[l - 1], layer_dims[l]))*0.1\n",
    "        parameters['b' + str(l)] = np.zeros((layer_dims[l], 1))\n",
    "\n",
    "    return parameters"
   ]
  },
  {
   "cell_type": "code",
   "execution_count": 5,
   "id": "327e07a8",
   "metadata": {
    "execution": {
     "iopub.execute_input": "2025-05-09T16:25:51.562967Z",
     "iopub.status.busy": "2025-05-09T16:25:51.562597Z",
     "iopub.status.idle": "2025-05-09T16:25:51.568905Z",
     "shell.execute_reply": "2025-05-09T16:25:51.568180Z"
    },
    "papermill": {
     "duration": 0.012107,
     "end_time": "2025-05-09T16:25:51.570230",
     "exception": false,
     "start_time": "2025-05-09T16:25:51.558123",
     "status": "completed"
    },
    "tags": []
   },
   "outputs": [
    {
     "data": {
      "text/plain": [
       "{'W1': array([[0.1, 0.1],\n",
       "        [0.1, 0.1]]),\n",
       " 'b1': array([[0.],\n",
       "        [0.]]),\n",
       " 'W2': array([[0.1],\n",
       "        [0.1]]),\n",
       " 'b2': array([[0.]])}"
      ]
     },
     "execution_count": 5,
     "metadata": {},
     "output_type": "execute_result"
    }
   ],
   "source": [
    "initialize_parameters([2, 2, 1])"
   ]
  },
  {
   "cell_type": "code",
   "execution_count": 6,
   "id": "d41e7b29",
   "metadata": {
    "execution": {
     "iopub.execute_input": "2025-05-09T16:25:51.579187Z",
     "iopub.status.busy": "2025-05-09T16:25:51.578915Z",
     "iopub.status.idle": "2025-05-09T16:25:51.583004Z",
     "shell.execute_reply": "2025-05-09T16:25:51.582246Z"
    },
    "papermill": {
     "duration": 0.010164,
     "end_time": "2025-05-09T16:25:51.584384",
     "exception": false,
     "start_time": "2025-05-09T16:25:51.574220",
     "status": "completed"
    },
    "tags": []
   },
   "outputs": [],
   "source": [
    "# w1 is matrix of all the weights from input to layer 1\n",
    "# b1 is matrix of all the biases in the layer 1 \n",
    "# w2 is matrix of all the weights from layer 1 to layer 2\n",
    "# b2 is matrix of all the biases in the layer 2 "
   ]
  },
  {
   "cell_type": "code",
   "execution_count": 7,
   "id": "accd49c6",
   "metadata": {
    "execution": {
     "iopub.execute_input": "2025-05-09T16:25:51.593305Z",
     "iopub.status.busy": "2025-05-09T16:25:51.592976Z",
     "iopub.status.idle": "2025-05-09T16:25:51.597346Z",
     "shell.execute_reply": "2025-05-09T16:25:51.596487Z"
    },
    "papermill": {
     "duration": 0.010447,
     "end_time": "2025-05-09T16:25:51.598832",
     "exception": false,
     "start_time": "2025-05-09T16:25:51.588385",
     "status": "completed"
    },
    "tags": []
   },
   "outputs": [],
   "source": [
    "def linear_forward(A_prev, W, b):\n",
    "    Z = np.dot(W.T, A_prev) + b\n",
    "    return Z"
   ]
  },
  {
   "cell_type": "code",
   "execution_count": 8,
   "id": "59c90d30",
   "metadata": {
    "execution": {
     "iopub.execute_input": "2025-05-09T16:25:51.607578Z",
     "iopub.status.busy": "2025-05-09T16:25:51.607260Z",
     "iopub.status.idle": "2025-05-09T16:25:51.612409Z",
     "shell.execute_reply": "2025-05-09T16:25:51.611632Z"
    },
    "papermill": {
     "duration": 0.011289,
     "end_time": "2025-05-09T16:25:51.613931",
     "exception": false,
     "start_time": "2025-05-09T16:25:51.602642",
     "status": "completed"
    },
    "tags": []
   },
   "outputs": [],
   "source": [
    "# Forward Prop\n",
    "def L_layer_forward(X, parameters):\n",
    "\n",
    "  A = X\n",
    "  L = len(parameters) // 2                  # number of layers in the neural network\n",
    "  \n",
    "  for l in range(1, L+1):\n",
    "    A_prev = A \n",
    "    Wl = parameters['W' + str(l)]\n",
    "    bl = parameters['b' + str(l)]\n",
    "    # print(\"A\"+str(l-1)+\": \", A_prev)\n",
    "    # print(\"W\"+str(l)+\": \", Wl)\n",
    "    # print(\"b\"+str(l)+\": \", bl)\n",
    "    # print(\"--\"*20)\n",
    "\n",
    "    A = linear_forward(A_prev, Wl, bl)\n",
    "    # print(\"A\"+str(l)+\": \", A)\n",
    "    # print(\"**\"*20)\n",
    "          \n",
    "  return A,A_prev"
   ]
  },
  {
   "cell_type": "code",
   "execution_count": 9,
   "id": "f9de6b9e",
   "metadata": {
    "execution": {
     "iopub.execute_input": "2025-05-09T16:25:51.623338Z",
     "iopub.status.busy": "2025-05-09T16:25:51.623038Z",
     "iopub.status.idle": "2025-05-09T16:25:51.650075Z",
     "shell.execute_reply": "2025-05-09T16:25:51.648986Z"
    },
    "papermill": {
     "duration": 0.033857,
     "end_time": "2025-05-09T16:25:51.651843",
     "exception": false,
     "start_time": "2025-05-09T16:25:51.617986",
     "status": "completed"
    },
    "tags": []
   },
   "outputs": [],
   "source": [
    "X = df[['cgpa', 'profile_score']].values[0].reshape(2,1) # Shape(no of features, no. of training example)\n",
    "y = df[['lpa']].values[0][0]\n",
    "\n",
    "# Parameter initialization\n",
    "parameters = initialize_parameters([2,2,1])\n",
    "\n",
    "y_hat,A1 = L_layer_forward(X, parameters)"
   ]
  },
  {
   "cell_type": "code",
   "execution_count": 10,
   "id": "58ac2113",
   "metadata": {
    "execution": {
     "iopub.execute_input": "2025-05-09T16:25:51.661561Z",
     "iopub.status.busy": "2025-05-09T16:25:51.661238Z",
     "iopub.status.idle": "2025-05-09T16:25:51.665918Z",
     "shell.execute_reply": "2025-05-09T16:25:51.665146Z"
    },
    "papermill": {
     "duration": 0.011488,
     "end_time": "2025-05-09T16:25:51.667450",
     "exception": false,
     "start_time": "2025-05-09T16:25:51.655962",
     "status": "completed"
    },
    "tags": []
   },
   "outputs": [],
   "source": [
    "y_hat = y_hat[0][0]"
   ]
  },
  {
   "cell_type": "code",
   "execution_count": 11,
   "id": "5d3d12c8",
   "metadata": {
    "execution": {
     "iopub.execute_input": "2025-05-09T16:25:51.677704Z",
     "iopub.status.busy": "2025-05-09T16:25:51.677291Z",
     "iopub.status.idle": "2025-05-09T16:25:51.686065Z",
     "shell.execute_reply": "2025-05-09T16:25:51.685292Z"
    },
    "papermill": {
     "duration": 0.016028,
     "end_time": "2025-05-09T16:25:51.687485",
     "exception": false,
     "start_time": "2025-05-09T16:25:51.671457",
     "status": "completed"
    },
    "tags": []
   },
   "outputs": [],
   "source": [
    "def update_parameters(parameters,y,y_hat,A1,X):\n",
    "  parameters['W2'][0][0] = parameters['W2'][0][0] + (0.001 * 2 * (y - y_hat)*A1[0][0])\n",
    "  parameters['W2'][1][0] = parameters['W2'][1][0] + (0.001 * 2 * (y - y_hat)*A1[1][0])\n",
    "  parameters['b2'][0][0] = parameters['W2'][1][0] + (0.001 * 2 * (y - y_hat))\n",
    "\n",
    "  parameters['W1'][0][0] = parameters['W1'][0][0] + (0.001 * 2 * (y - y_hat)*parameters['W2'][0][0]*X[0][0])\n",
    "  parameters['W1'][0][1] = parameters['W1'][0][1] + (0.001 * 2 * (y - y_hat)*parameters['W2'][0][0]*X[1][0])\n",
    "  parameters['b1'][0][0] = parameters['b1'][0][0] + (0.001 * 2 * (y - y_hat)*parameters['W2'][0][0])\n",
    "\n",
    "  parameters['W1'][1][0] = parameters['W1'][1][0] + (0.001 * 2 * (y - y_hat)*parameters['W2'][1][0]*X[0][0])\n",
    "  parameters['W1'][1][1] = parameters['W1'][1][1] + (0.001 * 2 * (y - y_hat)*parameters['W2'][1][0]*X[1][0])\n",
    "  parameters['b1'][1][0] = parameters['b1'][1][0] + (0.001 * 2 * (y - y_hat)*parameters['W2'][1][0])"
   ]
  },
  {
   "cell_type": "code",
   "execution_count": 12,
   "id": "4e4b3275",
   "metadata": {
    "execution": {
     "iopub.execute_input": "2025-05-09T16:25:51.696573Z",
     "iopub.status.busy": "2025-05-09T16:25:51.696214Z",
     "iopub.status.idle": "2025-05-09T16:25:51.700859Z",
     "shell.execute_reply": "2025-05-09T16:25:51.700001Z"
    },
    "papermill": {
     "duration": 0.011535,
     "end_time": "2025-05-09T16:25:51.703043",
     "exception": false,
     "start_time": "2025-05-09T16:25:51.691508",
     "status": "completed"
    },
    "tags": []
   },
   "outputs": [],
   "source": [
    "update_parameters(parameters,y,y_hat,A1,X)"
   ]
  },
  {
   "cell_type": "code",
   "execution_count": 13,
   "id": "a2740cbd",
   "metadata": {
    "execution": {
     "iopub.execute_input": "2025-05-09T16:25:51.712244Z",
     "iopub.status.busy": "2025-05-09T16:25:51.711921Z",
     "iopub.status.idle": "2025-05-09T16:25:51.718185Z",
     "shell.execute_reply": "2025-05-09T16:25:51.717380Z"
    },
    "papermill": {
     "duration": 0.012652,
     "end_time": "2025-05-09T16:25:51.719775",
     "exception": false,
     "start_time": "2025-05-09T16:25:51.707123",
     "status": "completed"
    },
    "tags": []
   },
   "outputs": [
    {
     "data": {
      "text/plain": [
       "{'W1': array([[0.10658137, 0.10658137],\n",
       "        [0.10658137, 0.10658137]]),\n",
       " 'b1': array([[0.00082267],\n",
       "        [0.00082267]]),\n",
       " 'W2': array([[0.111776],\n",
       "        [0.111776]]),\n",
       " 'b2': array([[0.119136]])}"
      ]
     },
     "execution_count": 13,
     "metadata": {},
     "output_type": "execute_result"
    }
   ],
   "source": [
    "parameters"
   ]
  },
  {
   "cell_type": "code",
   "execution_count": 14,
   "id": "1514674d",
   "metadata": {
    "execution": {
     "iopub.execute_input": "2025-05-09T16:25:51.729093Z",
     "iopub.status.busy": "2025-05-09T16:25:51.728714Z",
     "iopub.status.idle": "2025-05-09T16:25:51.739067Z",
     "shell.execute_reply": "2025-05-09T16:25:51.738124Z"
    },
    "papermill": {
     "duration": 0.016874,
     "end_time": "2025-05-09T16:25:51.740613",
     "exception": false,
     "start_time": "2025-05-09T16:25:51.723739",
     "status": "completed"
    },
    "tags": []
   },
   "outputs": [
    {
     "data": {
      "text/plain": [
       "{'W1': array([[0.10658137, 0.10658137],\n",
       "        [0.10658137, 0.10658137]]),\n",
       " 'b1': array([[0.00082267],\n",
       "        [0.00082267]]),\n",
       " 'W2': array([[0.111776],\n",
       "        [0.111776]]),\n",
       " 'b2': array([[0.119136]])}"
      ]
     },
     "execution_count": 14,
     "metadata": {},
     "output_type": "execute_result"
    }
   ],
   "source": [
    "X = df[['cgpa', 'profile_score']].values[0].reshape(2,1) # Shape(no of features, no. of training example)\n",
    "y = df[['lpa']].values[0][0]\n",
    "\n",
    "# Parameter initialization\n",
    "parameters = initialize_parameters([2,2,1])\n",
    "\n",
    "y_hat,A1 = L_layer_forward(X,parameters)\n",
    "y_hat = y_hat[0][0]\n",
    "\n",
    "update_parameters(parameters,y,y_hat,A1,X)\n",
    "\n",
    "parameters"
   ]
  },
  {
   "cell_type": "code",
   "execution_count": 15,
   "id": "517b70e1",
   "metadata": {
    "execution": {
     "iopub.execute_input": "2025-05-09T16:25:51.749997Z",
     "iopub.status.busy": "2025-05-09T16:25:51.749604Z",
     "iopub.status.idle": "2025-05-09T16:25:51.759876Z",
     "shell.execute_reply": "2025-05-09T16:25:51.758962Z"
    },
    "papermill": {
     "duration": 0.016687,
     "end_time": "2025-05-09T16:25:51.761356",
     "exception": false,
     "start_time": "2025-05-09T16:25:51.744669",
     "status": "completed"
    },
    "tags": []
   },
   "outputs": [
    {
     "data": {
      "text/plain": [
       "{'W1': array([[0.11458955, 0.1168776 ],\n",
       "        [0.11458955, 0.1168776 ]]),\n",
       " 'b1': array([[0.0019667],\n",
       "        [0.0019667]]),\n",
       " 'W2': array([[0.12712927],\n",
       "        [0.12712927]]),\n",
       " 'b2': array([[0.13612818]])}"
      ]
     },
     "execution_count": 15,
     "metadata": {},
     "output_type": "execute_result"
    }
   ],
   "source": [
    "X = df[['cgpa', 'profile_score']].values[1].reshape(2,1) # Shape(no of features, no. of training exaplme)\n",
    "y = df[['lpa']].values[1][0]\n",
    "\n",
    "y_hat,A1 = L_layer_forward(X,parameters)\n",
    "y_hat = y_hat[0][0]\n",
    "\n",
    "update_parameters(parameters,y,y_hat,A1,X)\n",
    "\n",
    "parameters"
   ]
  },
  {
   "cell_type": "code",
   "execution_count": 16,
   "id": "71005f93",
   "metadata": {
    "execution": {
     "iopub.execute_input": "2025-05-09T16:25:51.770854Z",
     "iopub.status.busy": "2025-05-09T16:25:51.770567Z",
     "iopub.status.idle": "2025-05-09T16:25:51.779945Z",
     "shell.execute_reply": "2025-05-09T16:25:51.779109Z"
    },
    "papermill": {
     "duration": 0.015694,
     "end_time": "2025-05-09T16:25:51.781365",
     "exception": false,
     "start_time": "2025-05-09T16:25:51.765671",
     "status": "completed"
    },
    "tags": []
   },
   "outputs": [
    {
     "data": {
      "text/plain": [
       "{'W1': array([[0.12409711, 0.13272353],\n",
       "        [0.12412266, 0.13276611]]),\n",
       " 'b1': array([[0.00355129],\n",
       "        [0.00355555]]),\n",
       " 'W2': array([[0.14692424],\n",
       "        [0.14731907]]),\n",
       " 'b2': array([[0.15810417]])}"
      ]
     },
     "execution_count": 16,
     "metadata": {},
     "output_type": "execute_result"
    }
   ],
   "source": [
    "X = df[['cgpa', 'profile_score']].values[2].reshape(2,1) # Shape(no of features, no. of training exaplme)\n",
    "y = df[['lpa']].values[2][0]\n",
    "\n",
    "y_hat,A1 = L_layer_forward(X,parameters)\n",
    "y_hat = y_hat[0][0]\n",
    "\n",
    "update_parameters(parameters,y,y_hat,A1,X)\n",
    "\n",
    "parameters"
   ]
  },
  {
   "cell_type": "code",
   "execution_count": 17,
   "id": "c2d5ee4f",
   "metadata": {
    "execution": {
     "iopub.execute_input": "2025-05-09T16:25:51.791225Z",
     "iopub.status.busy": "2025-05-09T16:25:51.790484Z",
     "iopub.status.idle": "2025-05-09T16:25:51.799820Z",
     "shell.execute_reply": "2025-05-09T16:25:51.798948Z"
    },
    "papermill": {
     "duration": 0.015747,
     "end_time": "2025-05-09T16:25:51.801304",
     "exception": false,
     "start_time": "2025-05-09T16:25:51.785557",
     "status": "completed"
    },
    "tags": []
   },
   "outputs": [
    {
     "data": {
      "text/plain": [
       "{'W1': array([[0.14469962, 0.16156704],\n",
       "        [0.14503891, 0.16204887]]),\n",
       " 'b1': array([[0.00767179],\n",
       "        [0.0077388 ]]),\n",
       " 'W2': array([[0.18092449],\n",
       "        [0.18367971]]),\n",
       " 'b2': array([[0.20645441]])}"
      ]
     },
     "execution_count": 17,
     "metadata": {},
     "output_type": "execute_result"
    }
   ],
   "source": [
    "X = df[['cgpa', 'profile_score']].values[3].reshape(2,1) # Shape(no of features, no. of training exaplme)\n",
    "y = df[['lpa']].values[3][0]\n",
    "\n",
    "y_hat,A1 = L_layer_forward(X,parameters)\n",
    "y_hat = y_hat[0][0]\n",
    "\n",
    "update_parameters(parameters,y,y_hat,A1,X)\n",
    "\n",
    "parameters"
   ]
  },
  {
   "cell_type": "code",
   "execution_count": 18,
   "id": "017c59a3",
   "metadata": {
    "execution": {
     "iopub.execute_input": "2025-05-09T16:25:51.811447Z",
     "iopub.status.busy": "2025-05-09T16:25:51.811123Z",
     "iopub.status.idle": "2025-05-09T16:25:51.856580Z",
     "shell.execute_reply": "2025-05-09T16:25:51.855676Z"
    },
    "papermill": {
     "duration": 0.052521,
     "end_time": "2025-05-09T16:25:51.858241",
     "exception": false,
     "start_time": "2025-05-09T16:25:51.805720",
     "status": "completed"
    },
    "tags": []
   },
   "outputs": [
    {
     "name": "stdout",
     "output_type": "stream",
     "text": [
      "Epoch -  1 Loss -  48.13473347162421\n",
      "Epoch -  2 Loss -  38.99759243705166\n",
      "Epoch -  3 Loss -  26.400194458994797\n",
      "Epoch -  4 Loss -  17.668713405650276\n",
      "Epoch -  5 Loss -  16.102509948631116\n",
      "Epoch -  6 Loss -  16.794157733376537\n",
      "Epoch -  7 Loss -  17.256738327930847\n",
      "Epoch -  8 Loss -  17.438520961111283\n",
      "Epoch -  9 Loss -  17.515403771716652\n",
      "Epoch -  10 Loss -  17.561916505235416\n"
     ]
    },
    {
     "data": {
      "text/plain": [
       "{'W1': array([[0.33795922, 0.49698803],\n",
       "        [0.35989526, 0.53548444]]),\n",
       " 'b1': array([[0.05668485],\n",
       "        [0.06248486]]),\n",
       " 'W2': array([[0.47773126],\n",
       "        [0.5460634 ]]),\n",
       " 'b2': array([[0.56068684]])}"
      ]
     },
     "execution_count": 18,
     "metadata": {},
     "output_type": "execute_result"
    }
   ],
   "source": [
    "# epochs implementation\n",
    "\n",
    "parameters = initialize_parameters([2,2,1])\n",
    "epochs = 10\n",
    "\n",
    "for i in range(epochs):\n",
    "\n",
    "  Loss = []\n",
    "\n",
    "  for j in range(df.shape[0]):\n",
    "\n",
    "    X = df[['cgpa', 'profile_score']].values[j].reshape(2,1) # Shape(no of features, no. of training example)\n",
    "    y = df[['lpa']].values[j][0]\n",
    "\n",
    "    # Parameter initialization\n",
    "\n",
    "\n",
    "    y_hat,A1 = L_layer_forward(X,parameters)\n",
    "    y_hat = y_hat[0][0]\n",
    "\n",
    "    update_parameters(parameters,y,y_hat,A1,X)\n",
    "\n",
    "    Loss.append((y-y_hat)**2)\n",
    "\n",
    "  print('Epoch - ',i+1,'Loss - ',np.array(Loss).mean())\n",
    "\n",
    "parameters"
   ]
  },
  {
   "cell_type": "code",
   "execution_count": null,
   "id": "b6a38f57",
   "metadata": {
    "papermill": {
     "duration": 0.004159,
     "end_time": "2025-05-09T16:25:51.866774",
     "exception": false,
     "start_time": "2025-05-09T16:25:51.862615",
     "status": "completed"
    },
    "tags": []
   },
   "outputs": [],
   "source": []
  }
 ],
 "metadata": {
  "kaggle": {
   "accelerator": "none",
   "dataSources": [],
   "dockerImageVersionId": 31012,
   "isGpuEnabled": false,
   "isInternetEnabled": true,
   "language": "python",
   "sourceType": "notebook"
  },
  "kernelspec": {
   "display_name": "Python 3",
   "language": "python",
   "name": "python3"
  },
  "language_info": {
   "codemirror_mode": {
    "name": "ipython",
    "version": 3
   },
   "file_extension": ".py",
   "mimetype": "text/x-python",
   "name": "python",
   "nbconvert_exporter": "python",
   "pygments_lexer": "ipython3",
   "version": "3.11.11"
  },
  "papermill": {
   "default_parameters": {},
   "duration": 8.424313,
   "end_time": "2025-05-09T16:25:52.390821",
   "environment_variables": {},
   "exception": null,
   "input_path": "__notebook__.ipynb",
   "output_path": "__notebook__.ipynb",
   "parameters": {},
   "start_time": "2025-05-09T16:25:43.966508",
   "version": "2.6.0"
  }
 },
 "nbformat": 4,
 "nbformat_minor": 5
}

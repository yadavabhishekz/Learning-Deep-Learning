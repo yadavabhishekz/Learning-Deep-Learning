{
 "cells": [
  {
   "cell_type": "markdown",
   "id": "065d2c46",
   "metadata": {
    "papermill": {
     "duration": 0.006521,
     "end_time": "2025-05-05T16:46:07.878832",
     "exception": false,
     "start_time": "2025-05-05T16:46:07.872311",
     "status": "completed"
    },
    "tags": []
   },
   "source": [
    "# main goal of this notebook is to learn how the neural network works and to make a very basic neural network \n",
    "not to train a best model or accurate model this is just for learning"
   ]
  },
  {
   "cell_type": "code",
   "execution_count": 1,
   "id": "9e26ef17",
   "metadata": {
    "_cell_guid": "b1076dfc-b9ad-4769-8c92-a6c4dae69d19",
    "_uuid": "8f2839f25d086af736a60e9eeb907d3b93b6e0e5",
    "execution": {
     "iopub.execute_input": "2025-05-05T16:46:07.891497Z",
     "iopub.status.busy": "2025-05-05T16:46:07.891176Z",
     "iopub.status.idle": "2025-05-05T16:46:10.104270Z",
     "shell.execute_reply": "2025-05-05T16:46:10.103136Z"
    },
    "papermill": {
     "duration": 2.221616,
     "end_time": "2025-05-05T16:46:10.106143",
     "exception": false,
     "start_time": "2025-05-05T16:46:07.884527",
     "status": "completed"
    },
    "tags": []
   },
   "outputs": [
    {
     "name": "stdout",
     "output_type": "stream",
     "text": [
      "/kaggle/input/credit-card-customer-churn-prediction/Churn_Modelling.csv\n"
     ]
    }
   ],
   "source": [
    "# This Python 3 environment comes with many helpful analytics libraries installed\n",
    "# It is defined by the kaggle/python Docker image: https://github.com/kaggle/docker-python\n",
    "# For example, here's several helpful packages to load\n",
    "\n",
    "import numpy as np # linear algebra\n",
    "import pandas as pd # data processing, CSV file I/O (e.g. pd.read_csv)\n",
    "\n",
    "# Input data files are available in the read-only \"../input/\" directory\n",
    "# For example, running this (by clicking run or pressing Shift+Enter) will list all files under the input directory\n",
    "\n",
    "import os\n",
    "for dirname, _, filenames in os.walk('/kaggle/input'):\n",
    "    for filename in filenames:\n",
    "        print(os.path.join(dirname, filename))\n",
    "\n",
    "# You can write up to 20GB to the current directory (/kaggle/working/) that gets preserved as output when you create a version using \"Save & Run All\" \n",
    "# You can also write temporary files to /kaggle/temp/, but they won't be saved outside of the current session"
   ]
  },
  {
   "cell_type": "code",
   "execution_count": 2,
   "id": "6cd6b92a",
   "metadata": {
    "execution": {
     "iopub.execute_input": "2025-05-05T16:46:10.120325Z",
     "iopub.status.busy": "2025-05-05T16:46:10.119918Z",
     "iopub.status.idle": "2025-05-05T16:46:10.186827Z",
     "shell.execute_reply": "2025-05-05T16:46:10.185837Z"
    },
    "papermill": {
     "duration": 0.077472,
     "end_time": "2025-05-05T16:46:10.189345",
     "exception": false,
     "start_time": "2025-05-05T16:46:10.111873",
     "status": "completed"
    },
    "tags": []
   },
   "outputs": [],
   "source": [
    "df = pd.read_csv('/kaggle/input/credit-card-customer-churn-prediction/Churn_Modelling.csv')"
   ]
  },
  {
   "cell_type": "code",
   "execution_count": 3,
   "id": "e11e3550",
   "metadata": {
    "execution": {
     "iopub.execute_input": "2025-05-05T16:46:10.207306Z",
     "iopub.status.busy": "2025-05-05T16:46:10.206475Z",
     "iopub.status.idle": "2025-05-05T16:46:10.243267Z",
     "shell.execute_reply": "2025-05-05T16:46:10.242275Z"
    },
    "papermill": {
     "duration": 0.048513,
     "end_time": "2025-05-05T16:46:10.245282",
     "exception": false,
     "start_time": "2025-05-05T16:46:10.196769",
     "status": "completed"
    },
    "tags": []
   },
   "outputs": [
    {
     "data": {
      "text/html": [
       "<div>\n",
       "<style scoped>\n",
       "    .dataframe tbody tr th:only-of-type {\n",
       "        vertical-align: middle;\n",
       "    }\n",
       "\n",
       "    .dataframe tbody tr th {\n",
       "        vertical-align: top;\n",
       "    }\n",
       "\n",
       "    .dataframe thead th {\n",
       "        text-align: right;\n",
       "    }\n",
       "</style>\n",
       "<table border=\"1\" class=\"dataframe\">\n",
       "  <thead>\n",
       "    <tr style=\"text-align: right;\">\n",
       "      <th></th>\n",
       "      <th>RowNumber</th>\n",
       "      <th>CustomerId</th>\n",
       "      <th>Surname</th>\n",
       "      <th>CreditScore</th>\n",
       "      <th>Geography</th>\n",
       "      <th>Gender</th>\n",
       "      <th>Age</th>\n",
       "      <th>Tenure</th>\n",
       "      <th>Balance</th>\n",
       "      <th>NumOfProducts</th>\n",
       "      <th>HasCrCard</th>\n",
       "      <th>IsActiveMember</th>\n",
       "      <th>EstimatedSalary</th>\n",
       "      <th>Exited</th>\n",
       "    </tr>\n",
       "  </thead>\n",
       "  <tbody>\n",
       "    <tr>\n",
       "      <th>0</th>\n",
       "      <td>1</td>\n",
       "      <td>15634602</td>\n",
       "      <td>Hargrave</td>\n",
       "      <td>619</td>\n",
       "      <td>France</td>\n",
       "      <td>Female</td>\n",
       "      <td>42</td>\n",
       "      <td>2</td>\n",
       "      <td>0.00</td>\n",
       "      <td>1</td>\n",
       "      <td>1</td>\n",
       "      <td>1</td>\n",
       "      <td>101348.88</td>\n",
       "      <td>1</td>\n",
       "    </tr>\n",
       "    <tr>\n",
       "      <th>1</th>\n",
       "      <td>2</td>\n",
       "      <td>15647311</td>\n",
       "      <td>Hill</td>\n",
       "      <td>608</td>\n",
       "      <td>Spain</td>\n",
       "      <td>Female</td>\n",
       "      <td>41</td>\n",
       "      <td>1</td>\n",
       "      <td>83807.86</td>\n",
       "      <td>1</td>\n",
       "      <td>0</td>\n",
       "      <td>1</td>\n",
       "      <td>112542.58</td>\n",
       "      <td>0</td>\n",
       "    </tr>\n",
       "    <tr>\n",
       "      <th>2</th>\n",
       "      <td>3</td>\n",
       "      <td>15619304</td>\n",
       "      <td>Onio</td>\n",
       "      <td>502</td>\n",
       "      <td>France</td>\n",
       "      <td>Female</td>\n",
       "      <td>42</td>\n",
       "      <td>8</td>\n",
       "      <td>159660.80</td>\n",
       "      <td>3</td>\n",
       "      <td>1</td>\n",
       "      <td>0</td>\n",
       "      <td>113931.57</td>\n",
       "      <td>1</td>\n",
       "    </tr>\n",
       "    <tr>\n",
       "      <th>3</th>\n",
       "      <td>4</td>\n",
       "      <td>15701354</td>\n",
       "      <td>Boni</td>\n",
       "      <td>699</td>\n",
       "      <td>France</td>\n",
       "      <td>Female</td>\n",
       "      <td>39</td>\n",
       "      <td>1</td>\n",
       "      <td>0.00</td>\n",
       "      <td>2</td>\n",
       "      <td>0</td>\n",
       "      <td>0</td>\n",
       "      <td>93826.63</td>\n",
       "      <td>0</td>\n",
       "    </tr>\n",
       "    <tr>\n",
       "      <th>4</th>\n",
       "      <td>5</td>\n",
       "      <td>15737888</td>\n",
       "      <td>Mitchell</td>\n",
       "      <td>850</td>\n",
       "      <td>Spain</td>\n",
       "      <td>Female</td>\n",
       "      <td>43</td>\n",
       "      <td>2</td>\n",
       "      <td>125510.82</td>\n",
       "      <td>1</td>\n",
       "      <td>1</td>\n",
       "      <td>1</td>\n",
       "      <td>79084.10</td>\n",
       "      <td>0</td>\n",
       "    </tr>\n",
       "  </tbody>\n",
       "</table>\n",
       "</div>"
      ],
      "text/plain": [
       "   RowNumber  CustomerId   Surname  CreditScore Geography  Gender  Age  \\\n",
       "0          1    15634602  Hargrave          619    France  Female   42   \n",
       "1          2    15647311      Hill          608     Spain  Female   41   \n",
       "2          3    15619304      Onio          502    France  Female   42   \n",
       "3          4    15701354      Boni          699    France  Female   39   \n",
       "4          5    15737888  Mitchell          850     Spain  Female   43   \n",
       "\n",
       "   Tenure    Balance  NumOfProducts  HasCrCard  IsActiveMember  \\\n",
       "0       2       0.00              1          1               1   \n",
       "1       1   83807.86              1          0               1   \n",
       "2       8  159660.80              3          1               0   \n",
       "3       1       0.00              2          0               0   \n",
       "4       2  125510.82              1          1               1   \n",
       "\n",
       "   EstimatedSalary  Exited  \n",
       "0        101348.88       1  \n",
       "1        112542.58       0  \n",
       "2        113931.57       1  \n",
       "3         93826.63       0  \n",
       "4         79084.10       0  "
      ]
     },
     "execution_count": 3,
     "metadata": {},
     "output_type": "execute_result"
    }
   ],
   "source": [
    "df.head()"
   ]
  },
  {
   "cell_type": "code",
   "execution_count": 4,
   "id": "0b92ef26",
   "metadata": {
    "execution": {
     "iopub.execute_input": "2025-05-05T16:46:10.258482Z",
     "iopub.status.busy": "2025-05-05T16:46:10.258173Z",
     "iopub.status.idle": "2025-05-05T16:46:10.264744Z",
     "shell.execute_reply": "2025-05-05T16:46:10.263731Z"
    },
    "papermill": {
     "duration": 0.015452,
     "end_time": "2025-05-05T16:46:10.266601",
     "exception": false,
     "start_time": "2025-05-05T16:46:10.251149",
     "status": "completed"
    },
    "tags": []
   },
   "outputs": [
    {
     "data": {
      "text/plain": [
       "(10000, 14)"
      ]
     },
     "execution_count": 4,
     "metadata": {},
     "output_type": "execute_result"
    }
   ],
   "source": [
    "df.shape"
   ]
  },
  {
   "cell_type": "code",
   "execution_count": 5,
   "id": "37bc4575",
   "metadata": {
    "execution": {
     "iopub.execute_input": "2025-05-05T16:46:10.280124Z",
     "iopub.status.busy": "2025-05-05T16:46:10.279816Z",
     "iopub.status.idle": "2025-05-05T16:46:10.312454Z",
     "shell.execute_reply": "2025-05-05T16:46:10.311532Z"
    },
    "papermill": {
     "duration": 0.041724,
     "end_time": "2025-05-05T16:46:10.314414",
     "exception": false,
     "start_time": "2025-05-05T16:46:10.272690",
     "status": "completed"
    },
    "tags": []
   },
   "outputs": [
    {
     "name": "stdout",
     "output_type": "stream",
     "text": [
      "<class 'pandas.core.frame.DataFrame'>\n",
      "RangeIndex: 10000 entries, 0 to 9999\n",
      "Data columns (total 14 columns):\n",
      " #   Column           Non-Null Count  Dtype  \n",
      "---  ------           --------------  -----  \n",
      " 0   RowNumber        10000 non-null  int64  \n",
      " 1   CustomerId       10000 non-null  int64  \n",
      " 2   Surname          10000 non-null  object \n",
      " 3   CreditScore      10000 non-null  int64  \n",
      " 4   Geography        10000 non-null  object \n",
      " 5   Gender           10000 non-null  object \n",
      " 6   Age              10000 non-null  int64  \n",
      " 7   Tenure           10000 non-null  int64  \n",
      " 8   Balance          10000 non-null  float64\n",
      " 9   NumOfProducts    10000 non-null  int64  \n",
      " 10  HasCrCard        10000 non-null  int64  \n",
      " 11  IsActiveMember   10000 non-null  int64  \n",
      " 12  EstimatedSalary  10000 non-null  float64\n",
      " 13  Exited           10000 non-null  int64  \n",
      "dtypes: float64(2), int64(9), object(3)\n",
      "memory usage: 1.1+ MB\n"
     ]
    }
   ],
   "source": [
    "df.info()"
   ]
  },
  {
   "cell_type": "code",
   "execution_count": 6,
   "id": "f4cc84e0",
   "metadata": {
    "execution": {
     "iopub.execute_input": "2025-05-05T16:46:10.331266Z",
     "iopub.status.busy": "2025-05-05T16:46:10.330696Z",
     "iopub.status.idle": "2025-05-05T16:46:10.348298Z",
     "shell.execute_reply": "2025-05-05T16:46:10.346897Z"
    },
    "papermill": {
     "duration": 0.029587,
     "end_time": "2025-05-05T16:46:10.350509",
     "exception": false,
     "start_time": "2025-05-05T16:46:10.320922",
     "status": "completed"
    },
    "tags": []
   },
   "outputs": [
    {
     "data": {
      "text/plain": [
       "0"
      ]
     },
     "execution_count": 6,
     "metadata": {},
     "output_type": "execute_result"
    }
   ],
   "source": [
    "df.duplicated().sum()"
   ]
  },
  {
   "cell_type": "code",
   "execution_count": 7,
   "id": "178555d1",
   "metadata": {
    "execution": {
     "iopub.execute_input": "2025-05-05T16:46:10.367037Z",
     "iopub.status.busy": "2025-05-05T16:46:10.366412Z",
     "iopub.status.idle": "2025-05-05T16:46:10.379761Z",
     "shell.execute_reply": "2025-05-05T16:46:10.378723Z"
    },
    "papermill": {
     "duration": 0.022789,
     "end_time": "2025-05-05T16:46:10.381375",
     "exception": false,
     "start_time": "2025-05-05T16:46:10.358586",
     "status": "completed"
    },
    "tags": []
   },
   "outputs": [
    {
     "data": {
      "text/plain": [
       "Exited\n",
       "0    7963\n",
       "1    2037\n",
       "Name: count, dtype: int64"
      ]
     },
     "execution_count": 7,
     "metadata": {},
     "output_type": "execute_result"
    }
   ],
   "source": [
    "df['Exited'].value_counts()"
   ]
  },
  {
   "cell_type": "code",
   "execution_count": 8,
   "id": "7736460b",
   "metadata": {
    "execution": {
     "iopub.execute_input": "2025-05-05T16:46:10.396707Z",
     "iopub.status.busy": "2025-05-05T16:46:10.396287Z",
     "iopub.status.idle": "2025-05-05T16:46:10.404202Z",
     "shell.execute_reply": "2025-05-05T16:46:10.403344Z"
    },
    "papermill": {
     "duration": 0.016355,
     "end_time": "2025-05-05T16:46:10.405809",
     "exception": false,
     "start_time": "2025-05-05T16:46:10.389454",
     "status": "completed"
    },
    "tags": []
   },
   "outputs": [
    {
     "data": {
      "text/plain": [
       "Geography\n",
       "France     5014\n",
       "Germany    2509\n",
       "Spain      2477\n",
       "Name: count, dtype: int64"
      ]
     },
     "execution_count": 8,
     "metadata": {},
     "output_type": "execute_result"
    }
   ],
   "source": [
    "df['Geography'].value_counts()"
   ]
  },
  {
   "cell_type": "code",
   "execution_count": 9,
   "id": "45023ca5",
   "metadata": {
    "execution": {
     "iopub.execute_input": "2025-05-05T16:46:10.419240Z",
     "iopub.status.busy": "2025-05-05T16:46:10.418958Z",
     "iopub.status.idle": "2025-05-05T16:46:10.427331Z",
     "shell.execute_reply": "2025-05-05T16:46:10.426422Z"
    },
    "papermill": {
     "duration": 0.017182,
     "end_time": "2025-05-05T16:46:10.429063",
     "exception": false,
     "start_time": "2025-05-05T16:46:10.411881",
     "status": "completed"
    },
    "tags": []
   },
   "outputs": [
    {
     "data": {
      "text/plain": [
       "Gender\n",
       "Male      5457\n",
       "Female    4543\n",
       "Name: count, dtype: int64"
      ]
     },
     "execution_count": 9,
     "metadata": {},
     "output_type": "execute_result"
    }
   ],
   "source": [
    "df['Gender'].value_counts()"
   ]
  },
  {
   "cell_type": "code",
   "execution_count": 10,
   "id": "cb01b0ca",
   "metadata": {
    "execution": {
     "iopub.execute_input": "2025-05-05T16:46:10.443013Z",
     "iopub.status.busy": "2025-05-05T16:46:10.442572Z",
     "iopub.status.idle": "2025-05-05T16:46:10.451243Z",
     "shell.execute_reply": "2025-05-05T16:46:10.450379Z"
    },
    "papermill": {
     "duration": 0.017764,
     "end_time": "2025-05-05T16:46:10.453208",
     "exception": false,
     "start_time": "2025-05-05T16:46:10.435444",
     "status": "completed"
    },
    "tags": []
   },
   "outputs": [],
   "source": [
    "df.drop(columns = ['RowNumber', 'CustomerId', 'Surname'], inplace = True)"
   ]
  },
  {
   "cell_type": "code",
   "execution_count": 11,
   "id": "c50f4bb5",
   "metadata": {
    "execution": {
     "iopub.execute_input": "2025-05-05T16:46:10.467167Z",
     "iopub.status.busy": "2025-05-05T16:46:10.466822Z",
     "iopub.status.idle": "2025-05-05T16:46:10.479988Z",
     "shell.execute_reply": "2025-05-05T16:46:10.478940Z"
    },
    "papermill": {
     "duration": 0.022598,
     "end_time": "2025-05-05T16:46:10.481994",
     "exception": false,
     "start_time": "2025-05-05T16:46:10.459396",
     "status": "completed"
    },
    "tags": []
   },
   "outputs": [
    {
     "data": {
      "text/html": [
       "<div>\n",
       "<style scoped>\n",
       "    .dataframe tbody tr th:only-of-type {\n",
       "        vertical-align: middle;\n",
       "    }\n",
       "\n",
       "    .dataframe tbody tr th {\n",
       "        vertical-align: top;\n",
       "    }\n",
       "\n",
       "    .dataframe thead th {\n",
       "        text-align: right;\n",
       "    }\n",
       "</style>\n",
       "<table border=\"1\" class=\"dataframe\">\n",
       "  <thead>\n",
       "    <tr style=\"text-align: right;\">\n",
       "      <th></th>\n",
       "      <th>CreditScore</th>\n",
       "      <th>Geography</th>\n",
       "      <th>Gender</th>\n",
       "      <th>Age</th>\n",
       "      <th>Tenure</th>\n",
       "      <th>Balance</th>\n",
       "      <th>NumOfProducts</th>\n",
       "      <th>HasCrCard</th>\n",
       "      <th>IsActiveMember</th>\n",
       "      <th>EstimatedSalary</th>\n",
       "      <th>Exited</th>\n",
       "    </tr>\n",
       "  </thead>\n",
       "  <tbody>\n",
       "    <tr>\n",
       "      <th>0</th>\n",
       "      <td>619</td>\n",
       "      <td>France</td>\n",
       "      <td>Female</td>\n",
       "      <td>42</td>\n",
       "      <td>2</td>\n",
       "      <td>0.00</td>\n",
       "      <td>1</td>\n",
       "      <td>1</td>\n",
       "      <td>1</td>\n",
       "      <td>101348.88</td>\n",
       "      <td>1</td>\n",
       "    </tr>\n",
       "    <tr>\n",
       "      <th>1</th>\n",
       "      <td>608</td>\n",
       "      <td>Spain</td>\n",
       "      <td>Female</td>\n",
       "      <td>41</td>\n",
       "      <td>1</td>\n",
       "      <td>83807.86</td>\n",
       "      <td>1</td>\n",
       "      <td>0</td>\n",
       "      <td>1</td>\n",
       "      <td>112542.58</td>\n",
       "      <td>0</td>\n",
       "    </tr>\n",
       "    <tr>\n",
       "      <th>2</th>\n",
       "      <td>502</td>\n",
       "      <td>France</td>\n",
       "      <td>Female</td>\n",
       "      <td>42</td>\n",
       "      <td>8</td>\n",
       "      <td>159660.80</td>\n",
       "      <td>3</td>\n",
       "      <td>1</td>\n",
       "      <td>0</td>\n",
       "      <td>113931.57</td>\n",
       "      <td>1</td>\n",
       "    </tr>\n",
       "    <tr>\n",
       "      <th>3</th>\n",
       "      <td>699</td>\n",
       "      <td>France</td>\n",
       "      <td>Female</td>\n",
       "      <td>39</td>\n",
       "      <td>1</td>\n",
       "      <td>0.00</td>\n",
       "      <td>2</td>\n",
       "      <td>0</td>\n",
       "      <td>0</td>\n",
       "      <td>93826.63</td>\n",
       "      <td>0</td>\n",
       "    </tr>\n",
       "    <tr>\n",
       "      <th>4</th>\n",
       "      <td>850</td>\n",
       "      <td>Spain</td>\n",
       "      <td>Female</td>\n",
       "      <td>43</td>\n",
       "      <td>2</td>\n",
       "      <td>125510.82</td>\n",
       "      <td>1</td>\n",
       "      <td>1</td>\n",
       "      <td>1</td>\n",
       "      <td>79084.10</td>\n",
       "      <td>0</td>\n",
       "    </tr>\n",
       "  </tbody>\n",
       "</table>\n",
       "</div>"
      ],
      "text/plain": [
       "   CreditScore Geography  Gender  Age  Tenure    Balance  NumOfProducts  \\\n",
       "0          619    France  Female   42       2       0.00              1   \n",
       "1          608     Spain  Female   41       1   83807.86              1   \n",
       "2          502    France  Female   42       8  159660.80              3   \n",
       "3          699    France  Female   39       1       0.00              2   \n",
       "4          850     Spain  Female   43       2  125510.82              1   \n",
       "\n",
       "   HasCrCard  IsActiveMember  EstimatedSalary  Exited  \n",
       "0          1               1        101348.88       1  \n",
       "1          0               1        112542.58       0  \n",
       "2          1               0        113931.57       1  \n",
       "3          0               0         93826.63       0  \n",
       "4          1               1         79084.10       0  "
      ]
     },
     "execution_count": 11,
     "metadata": {},
     "output_type": "execute_result"
    }
   ],
   "source": [
    "df.head()"
   ]
  },
  {
   "cell_type": "code",
   "execution_count": 12,
   "id": "e1305146",
   "metadata": {
    "execution": {
     "iopub.execute_input": "2025-05-05T16:46:10.503716Z",
     "iopub.status.busy": "2025-05-05T16:46:10.503354Z",
     "iopub.status.idle": "2025-05-05T16:46:10.516900Z",
     "shell.execute_reply": "2025-05-05T16:46:10.515740Z"
    },
    "papermill": {
     "duration": 0.026947,
     "end_time": "2025-05-05T16:46:10.519273",
     "exception": false,
     "start_time": "2025-05-05T16:46:10.492326",
     "status": "completed"
    },
    "tags": []
   },
   "outputs": [],
   "source": [
    "df = pd.get_dummies(df, columns = ['Geography', 'Gender'], drop_first = True)"
   ]
  },
  {
   "cell_type": "code",
   "execution_count": 13,
   "id": "7a4e1753",
   "metadata": {
    "execution": {
     "iopub.execute_input": "2025-05-05T16:46:10.536745Z",
     "iopub.status.busy": "2025-05-05T16:46:10.536327Z",
     "iopub.status.idle": "2025-05-05T16:46:10.557856Z",
     "shell.execute_reply": "2025-05-05T16:46:10.556801Z"
    },
    "papermill": {
     "duration": 0.030632,
     "end_time": "2025-05-05T16:46:10.559432",
     "exception": false,
     "start_time": "2025-05-05T16:46:10.528800",
     "status": "completed"
    },
    "tags": []
   },
   "outputs": [
    {
     "data": {
      "text/html": [
       "<div>\n",
       "<style scoped>\n",
       "    .dataframe tbody tr th:only-of-type {\n",
       "        vertical-align: middle;\n",
       "    }\n",
       "\n",
       "    .dataframe tbody tr th {\n",
       "        vertical-align: top;\n",
       "    }\n",
       "\n",
       "    .dataframe thead th {\n",
       "        text-align: right;\n",
       "    }\n",
       "</style>\n",
       "<table border=\"1\" class=\"dataframe\">\n",
       "  <thead>\n",
       "    <tr style=\"text-align: right;\">\n",
       "      <th></th>\n",
       "      <th>CreditScore</th>\n",
       "      <th>Age</th>\n",
       "      <th>Tenure</th>\n",
       "      <th>Balance</th>\n",
       "      <th>NumOfProducts</th>\n",
       "      <th>HasCrCard</th>\n",
       "      <th>IsActiveMember</th>\n",
       "      <th>EstimatedSalary</th>\n",
       "      <th>Exited</th>\n",
       "      <th>Geography_Germany</th>\n",
       "      <th>Geography_Spain</th>\n",
       "      <th>Gender_Male</th>\n",
       "    </tr>\n",
       "  </thead>\n",
       "  <tbody>\n",
       "    <tr>\n",
       "      <th>0</th>\n",
       "      <td>619</td>\n",
       "      <td>42</td>\n",
       "      <td>2</td>\n",
       "      <td>0.00</td>\n",
       "      <td>1</td>\n",
       "      <td>1</td>\n",
       "      <td>1</td>\n",
       "      <td>101348.88</td>\n",
       "      <td>1</td>\n",
       "      <td>False</td>\n",
       "      <td>False</td>\n",
       "      <td>False</td>\n",
       "    </tr>\n",
       "    <tr>\n",
       "      <th>1</th>\n",
       "      <td>608</td>\n",
       "      <td>41</td>\n",
       "      <td>1</td>\n",
       "      <td>83807.86</td>\n",
       "      <td>1</td>\n",
       "      <td>0</td>\n",
       "      <td>1</td>\n",
       "      <td>112542.58</td>\n",
       "      <td>0</td>\n",
       "      <td>False</td>\n",
       "      <td>True</td>\n",
       "      <td>False</td>\n",
       "    </tr>\n",
       "    <tr>\n",
       "      <th>2</th>\n",
       "      <td>502</td>\n",
       "      <td>42</td>\n",
       "      <td>8</td>\n",
       "      <td>159660.80</td>\n",
       "      <td>3</td>\n",
       "      <td>1</td>\n",
       "      <td>0</td>\n",
       "      <td>113931.57</td>\n",
       "      <td>1</td>\n",
       "      <td>False</td>\n",
       "      <td>False</td>\n",
       "      <td>False</td>\n",
       "    </tr>\n",
       "    <tr>\n",
       "      <th>3</th>\n",
       "      <td>699</td>\n",
       "      <td>39</td>\n",
       "      <td>1</td>\n",
       "      <td>0.00</td>\n",
       "      <td>2</td>\n",
       "      <td>0</td>\n",
       "      <td>0</td>\n",
       "      <td>93826.63</td>\n",
       "      <td>0</td>\n",
       "      <td>False</td>\n",
       "      <td>False</td>\n",
       "      <td>False</td>\n",
       "    </tr>\n",
       "    <tr>\n",
       "      <th>4</th>\n",
       "      <td>850</td>\n",
       "      <td>43</td>\n",
       "      <td>2</td>\n",
       "      <td>125510.82</td>\n",
       "      <td>1</td>\n",
       "      <td>1</td>\n",
       "      <td>1</td>\n",
       "      <td>79084.10</td>\n",
       "      <td>0</td>\n",
       "      <td>False</td>\n",
       "      <td>True</td>\n",
       "      <td>False</td>\n",
       "    </tr>\n",
       "    <tr>\n",
       "      <th>...</th>\n",
       "      <td>...</td>\n",
       "      <td>...</td>\n",
       "      <td>...</td>\n",
       "      <td>...</td>\n",
       "      <td>...</td>\n",
       "      <td>...</td>\n",
       "      <td>...</td>\n",
       "      <td>...</td>\n",
       "      <td>...</td>\n",
       "      <td>...</td>\n",
       "      <td>...</td>\n",
       "      <td>...</td>\n",
       "    </tr>\n",
       "    <tr>\n",
       "      <th>9995</th>\n",
       "      <td>771</td>\n",
       "      <td>39</td>\n",
       "      <td>5</td>\n",
       "      <td>0.00</td>\n",
       "      <td>2</td>\n",
       "      <td>1</td>\n",
       "      <td>0</td>\n",
       "      <td>96270.64</td>\n",
       "      <td>0</td>\n",
       "      <td>False</td>\n",
       "      <td>False</td>\n",
       "      <td>True</td>\n",
       "    </tr>\n",
       "    <tr>\n",
       "      <th>9996</th>\n",
       "      <td>516</td>\n",
       "      <td>35</td>\n",
       "      <td>10</td>\n",
       "      <td>57369.61</td>\n",
       "      <td>1</td>\n",
       "      <td>1</td>\n",
       "      <td>1</td>\n",
       "      <td>101699.77</td>\n",
       "      <td>0</td>\n",
       "      <td>False</td>\n",
       "      <td>False</td>\n",
       "      <td>True</td>\n",
       "    </tr>\n",
       "    <tr>\n",
       "      <th>9997</th>\n",
       "      <td>709</td>\n",
       "      <td>36</td>\n",
       "      <td>7</td>\n",
       "      <td>0.00</td>\n",
       "      <td>1</td>\n",
       "      <td>0</td>\n",
       "      <td>1</td>\n",
       "      <td>42085.58</td>\n",
       "      <td>1</td>\n",
       "      <td>False</td>\n",
       "      <td>False</td>\n",
       "      <td>False</td>\n",
       "    </tr>\n",
       "    <tr>\n",
       "      <th>9998</th>\n",
       "      <td>772</td>\n",
       "      <td>42</td>\n",
       "      <td>3</td>\n",
       "      <td>75075.31</td>\n",
       "      <td>2</td>\n",
       "      <td>1</td>\n",
       "      <td>0</td>\n",
       "      <td>92888.52</td>\n",
       "      <td>1</td>\n",
       "      <td>True</td>\n",
       "      <td>False</td>\n",
       "      <td>True</td>\n",
       "    </tr>\n",
       "    <tr>\n",
       "      <th>9999</th>\n",
       "      <td>792</td>\n",
       "      <td>28</td>\n",
       "      <td>4</td>\n",
       "      <td>130142.79</td>\n",
       "      <td>1</td>\n",
       "      <td>1</td>\n",
       "      <td>0</td>\n",
       "      <td>38190.78</td>\n",
       "      <td>0</td>\n",
       "      <td>False</td>\n",
       "      <td>False</td>\n",
       "      <td>False</td>\n",
       "    </tr>\n",
       "  </tbody>\n",
       "</table>\n",
       "<p>10000 rows × 12 columns</p>\n",
       "</div>"
      ],
      "text/plain": [
       "      CreditScore  Age  Tenure    Balance  NumOfProducts  HasCrCard  \\\n",
       "0             619   42       2       0.00              1          1   \n",
       "1             608   41       1   83807.86              1          0   \n",
       "2             502   42       8  159660.80              3          1   \n",
       "3             699   39       1       0.00              2          0   \n",
       "4             850   43       2  125510.82              1          1   \n",
       "...           ...  ...     ...        ...            ...        ...   \n",
       "9995          771   39       5       0.00              2          1   \n",
       "9996          516   35      10   57369.61              1          1   \n",
       "9997          709   36       7       0.00              1          0   \n",
       "9998          772   42       3   75075.31              2          1   \n",
       "9999          792   28       4  130142.79              1          1   \n",
       "\n",
       "      IsActiveMember  EstimatedSalary  Exited  Geography_Germany  \\\n",
       "0                  1        101348.88       1              False   \n",
       "1                  1        112542.58       0              False   \n",
       "2                  0        113931.57       1              False   \n",
       "3                  0         93826.63       0              False   \n",
       "4                  1         79084.10       0              False   \n",
       "...              ...              ...     ...                ...   \n",
       "9995               0         96270.64       0              False   \n",
       "9996               1        101699.77       0              False   \n",
       "9997               1         42085.58       1              False   \n",
       "9998               0         92888.52       1               True   \n",
       "9999               0         38190.78       0              False   \n",
       "\n",
       "      Geography_Spain  Gender_Male  \n",
       "0               False        False  \n",
       "1                True        False  \n",
       "2               False        False  \n",
       "3               False        False  \n",
       "4                True        False  \n",
       "...               ...          ...  \n",
       "9995            False         True  \n",
       "9996            False         True  \n",
       "9997            False        False  \n",
       "9998            False         True  \n",
       "9999            False        False  \n",
       "\n",
       "[10000 rows x 12 columns]"
      ]
     },
     "execution_count": 13,
     "metadata": {},
     "output_type": "execute_result"
    }
   ],
   "source": [
    "df"
   ]
  },
  {
   "cell_type": "code",
   "execution_count": 14,
   "id": "00e8e456",
   "metadata": {
    "execution": {
     "iopub.execute_input": "2025-05-05T16:46:10.574630Z",
     "iopub.status.busy": "2025-05-05T16:46:10.574280Z",
     "iopub.status.idle": "2025-05-05T16:46:12.559702Z",
     "shell.execute_reply": "2025-05-05T16:46:12.558684Z"
    },
    "papermill": {
     "duration": 1.99559,
     "end_time": "2025-05-05T16:46:12.562075",
     "exception": false,
     "start_time": "2025-05-05T16:46:10.566485",
     "status": "completed"
    },
    "tags": []
   },
   "outputs": [],
   "source": [
    "X = df.drop(columns = ['Exited'])\n",
    "y = df['Exited']\n",
    "\n",
    "from sklearn.model_selection import train_test_split\n",
    "X_train, X_test, y_train, y_test = train_test_split(X, y, test_size = 0.2, random_state = 1)"
   ]
  },
  {
   "cell_type": "code",
   "execution_count": 15,
   "id": "b4103ee4",
   "metadata": {
    "execution": {
     "iopub.execute_input": "2025-05-05T16:46:12.578336Z",
     "iopub.status.busy": "2025-05-05T16:46:12.577887Z",
     "iopub.status.idle": "2025-05-05T16:46:12.585013Z",
     "shell.execute_reply": "2025-05-05T16:46:12.583858Z"
    },
    "papermill": {
     "duration": 0.0168,
     "end_time": "2025-05-05T16:46:12.586740",
     "exception": false,
     "start_time": "2025-05-05T16:46:12.569940",
     "status": "completed"
    },
    "tags": []
   },
   "outputs": [
    {
     "data": {
      "text/plain": [
       "(8000, 11)"
      ]
     },
     "execution_count": 15,
     "metadata": {},
     "output_type": "execute_result"
    }
   ],
   "source": [
    "X_train.shape"
   ]
  },
  {
   "cell_type": "code",
   "execution_count": 16,
   "id": "7a545b49",
   "metadata": {
    "execution": {
     "iopub.execute_input": "2025-05-05T16:46:12.601682Z",
     "iopub.status.busy": "2025-05-05T16:46:12.601324Z",
     "iopub.status.idle": "2025-05-05T16:46:12.638432Z",
     "shell.execute_reply": "2025-05-05T16:46:12.637679Z"
    },
    "papermill": {
     "duration": 0.047092,
     "end_time": "2025-05-05T16:46:12.640702",
     "exception": false,
     "start_time": "2025-05-05T16:46:12.593610",
     "status": "completed"
    },
    "tags": []
   },
   "outputs": [],
   "source": [
    "from sklearn.preprocessing import StandardScaler\n",
    "scaler = StandardScaler()\n",
    "\n",
    "X_train_scaled = scaler.fit_transform(X_train)\n",
    "X_test_scaled = scaler.fit_transform(X_test)"
   ]
  },
  {
   "cell_type": "code",
   "execution_count": 17,
   "id": "3a626793",
   "metadata": {
    "execution": {
     "iopub.execute_input": "2025-05-05T16:46:12.655979Z",
     "iopub.status.busy": "2025-05-05T16:46:12.655472Z",
     "iopub.status.idle": "2025-05-05T16:46:31.635005Z",
     "shell.execute_reply": "2025-05-05T16:46:31.633599Z"
    },
    "papermill": {
     "duration": 18.989301,
     "end_time": "2025-05-05T16:46:31.636993",
     "exception": false,
     "start_time": "2025-05-05T16:46:12.647692",
     "status": "completed"
    },
    "tags": []
   },
   "outputs": [
    {
     "name": "stderr",
     "output_type": "stream",
     "text": [
      "2025-05-05 16:46:14.822299: E external/local_xla/xla/stream_executor/cuda/cuda_fft.cc:477] Unable to register cuFFT factory: Attempting to register factory for plugin cuFFT when one has already been registered\n",
      "WARNING: All log messages before absl::InitializeLog() is called are written to STDERR\n",
      "E0000 00:00:1746463575.153864      13 cuda_dnn.cc:8310] Unable to register cuDNN factory: Attempting to register factory for plugin cuDNN when one has already been registered\n",
      "E0000 00:00:1746463575.242239      13 cuda_blas.cc:1418] Unable to register cuBLAS factory: Attempting to register factory for plugin cuBLAS when one has already been registered\n"
     ]
    }
   ],
   "source": [
    "import tensorflow\n",
    "from tensorflow import keras\n",
    "from tensorflow.keras.models import Sequential\n",
    "from tensorflow.keras.layers import Dense, Input"
   ]
  },
  {
   "cell_type": "code",
   "execution_count": 18,
   "id": "96097091",
   "metadata": {
    "execution": {
     "iopub.execute_input": "2025-05-05T16:46:31.653172Z",
     "iopub.status.busy": "2025-05-05T16:46:31.652614Z",
     "iopub.status.idle": "2025-05-05T16:46:31.753953Z",
     "shell.execute_reply": "2025-05-05T16:46:31.752701Z"
    },
    "papermill": {
     "duration": 0.111099,
     "end_time": "2025-05-05T16:46:31.755768",
     "exception": false,
     "start_time": "2025-05-05T16:46:31.644669",
     "status": "completed"
    },
    "tags": []
   },
   "outputs": [
    {
     "name": "stderr",
     "output_type": "stream",
     "text": [
      "2025-05-05 16:46:31.663749: E external/local_xla/xla/stream_executor/cuda/cuda_driver.cc:152] failed call to cuInit: INTERNAL: CUDA error: Failed call to cuInit: UNKNOWN ERROR (303)\n"
     ]
    }
   ],
   "source": [
    "model = Sequential()\n",
    "\n",
    "\n",
    "model.add(Input(shape=(11,)))\n",
    "model.add(Dense(11, activation = 'relu'))\n",
    "model.add(Dense(11, activation = 'relu'))\n",
    "model.add(Dense(1, activation = 'sigmoid'))"
   ]
  },
  {
   "cell_type": "code",
   "execution_count": 19,
   "id": "fb59a7d8",
   "metadata": {
    "execution": {
     "iopub.execute_input": "2025-05-05T16:46:31.770896Z",
     "iopub.status.busy": "2025-05-05T16:46:31.770602Z",
     "iopub.status.idle": "2025-05-05T16:46:31.790642Z",
     "shell.execute_reply": "2025-05-05T16:46:31.789460Z"
    },
    "papermill": {
     "duration": 0.029363,
     "end_time": "2025-05-05T16:46:31.792224",
     "exception": false,
     "start_time": "2025-05-05T16:46:31.762861",
     "status": "completed"
    },
    "tags": []
   },
   "outputs": [
    {
     "data": {
      "text/html": [
       "<pre style=\"white-space:pre;overflow-x:auto;line-height:normal;font-family:Menlo,'DejaVu Sans Mono',consolas,'Courier New',monospace\"><span style=\"font-weight: bold\">Model: \"sequential\"</span>\n",
       "</pre>\n"
      ],
      "text/plain": [
       "\u001b[1mModel: \"sequential\"\u001b[0m\n"
      ]
     },
     "metadata": {},
     "output_type": "display_data"
    },
    {
     "data": {
      "text/html": [
       "<pre style=\"white-space:pre;overflow-x:auto;line-height:normal;font-family:Menlo,'DejaVu Sans Mono',consolas,'Courier New',monospace\">┏━━━━━━━━━━━━━━━━━━━━━━━━━━━━━━━━━━━━━━┳━━━━━━━━━━━━━━━━━━━━━━━━━━━━━┳━━━━━━━━━━━━━━━━━┓\n",
       "┃<span style=\"font-weight: bold\"> Layer (type)                         </span>┃<span style=\"font-weight: bold\"> Output Shape                </span>┃<span style=\"font-weight: bold\">         Param # </span>┃\n",
       "┡━━━━━━━━━━━━━━━━━━━━━━━━━━━━━━━━━━━━━━╇━━━━━━━━━━━━━━━━━━━━━━━━━━━━━╇━━━━━━━━━━━━━━━━━┩\n",
       "│ dense (<span style=\"color: #0087ff; text-decoration-color: #0087ff\">Dense</span>)                        │ (<span style=\"color: #00d7ff; text-decoration-color: #00d7ff\">None</span>, <span style=\"color: #00af00; text-decoration-color: #00af00\">11</span>)                  │             <span style=\"color: #00af00; text-decoration-color: #00af00\">132</span> │\n",
       "├──────────────────────────────────────┼─────────────────────────────┼─────────────────┤\n",
       "│ dense_1 (<span style=\"color: #0087ff; text-decoration-color: #0087ff\">Dense</span>)                      │ (<span style=\"color: #00d7ff; text-decoration-color: #00d7ff\">None</span>, <span style=\"color: #00af00; text-decoration-color: #00af00\">11</span>)                  │             <span style=\"color: #00af00; text-decoration-color: #00af00\">132</span> │\n",
       "├──────────────────────────────────────┼─────────────────────────────┼─────────────────┤\n",
       "│ dense_2 (<span style=\"color: #0087ff; text-decoration-color: #0087ff\">Dense</span>)                      │ (<span style=\"color: #00d7ff; text-decoration-color: #00d7ff\">None</span>, <span style=\"color: #00af00; text-decoration-color: #00af00\">1</span>)                   │              <span style=\"color: #00af00; text-decoration-color: #00af00\">12</span> │\n",
       "└──────────────────────────────────────┴─────────────────────────────┴─────────────────┘\n",
       "</pre>\n"
      ],
      "text/plain": [
       "┏━━━━━━━━━━━━━━━━━━━━━━━━━━━━━━━━━━━━━━┳━━━━━━━━━━━━━━━━━━━━━━━━━━━━━┳━━━━━━━━━━━━━━━━━┓\n",
       "┃\u001b[1m \u001b[0m\u001b[1mLayer (type)                        \u001b[0m\u001b[1m \u001b[0m┃\u001b[1m \u001b[0m\u001b[1mOutput Shape               \u001b[0m\u001b[1m \u001b[0m┃\u001b[1m \u001b[0m\u001b[1m        Param #\u001b[0m\u001b[1m \u001b[0m┃\n",
       "┡━━━━━━━━━━━━━━━━━━━━━━━━━━━━━━━━━━━━━━╇━━━━━━━━━━━━━━━━━━━━━━━━━━━━━╇━━━━━━━━━━━━━━━━━┩\n",
       "│ dense (\u001b[38;5;33mDense\u001b[0m)                        │ (\u001b[38;5;45mNone\u001b[0m, \u001b[38;5;34m11\u001b[0m)                  │             \u001b[38;5;34m132\u001b[0m │\n",
       "├──────────────────────────────────────┼─────────────────────────────┼─────────────────┤\n",
       "│ dense_1 (\u001b[38;5;33mDense\u001b[0m)                      │ (\u001b[38;5;45mNone\u001b[0m, \u001b[38;5;34m11\u001b[0m)                  │             \u001b[38;5;34m132\u001b[0m │\n",
       "├──────────────────────────────────────┼─────────────────────────────┼─────────────────┤\n",
       "│ dense_2 (\u001b[38;5;33mDense\u001b[0m)                      │ (\u001b[38;5;45mNone\u001b[0m, \u001b[38;5;34m1\u001b[0m)                   │              \u001b[38;5;34m12\u001b[0m │\n",
       "└──────────────────────────────────────┴─────────────────────────────┴─────────────────┘\n"
      ]
     },
     "metadata": {},
     "output_type": "display_data"
    },
    {
     "data": {
      "text/html": [
       "<pre style=\"white-space:pre;overflow-x:auto;line-height:normal;font-family:Menlo,'DejaVu Sans Mono',consolas,'Courier New',monospace\"><span style=\"font-weight: bold\"> Total params: </span><span style=\"color: #00af00; text-decoration-color: #00af00\">276</span> (1.08 KB)\n",
       "</pre>\n"
      ],
      "text/plain": [
       "\u001b[1m Total params: \u001b[0m\u001b[38;5;34m276\u001b[0m (1.08 KB)\n"
      ]
     },
     "metadata": {},
     "output_type": "display_data"
    },
    {
     "data": {
      "text/html": [
       "<pre style=\"white-space:pre;overflow-x:auto;line-height:normal;font-family:Menlo,'DejaVu Sans Mono',consolas,'Courier New',monospace\"><span style=\"font-weight: bold\"> Trainable params: </span><span style=\"color: #00af00; text-decoration-color: #00af00\">276</span> (1.08 KB)\n",
       "</pre>\n"
      ],
      "text/plain": [
       "\u001b[1m Trainable params: \u001b[0m\u001b[38;5;34m276\u001b[0m (1.08 KB)\n"
      ]
     },
     "metadata": {},
     "output_type": "display_data"
    },
    {
     "data": {
      "text/html": [
       "<pre style=\"white-space:pre;overflow-x:auto;line-height:normal;font-family:Menlo,'DejaVu Sans Mono',consolas,'Courier New',monospace\"><span style=\"font-weight: bold\"> Non-trainable params: </span><span style=\"color: #00af00; text-decoration-color: #00af00\">0</span> (0.00 B)\n",
       "</pre>\n"
      ],
      "text/plain": [
       "\u001b[1m Non-trainable params: \u001b[0m\u001b[38;5;34m0\u001b[0m (0.00 B)\n"
      ]
     },
     "metadata": {},
     "output_type": "display_data"
    }
   ],
   "source": [
    "model.summary()"
   ]
  },
  {
   "cell_type": "code",
   "execution_count": 20,
   "id": "ddae18ad",
   "metadata": {
    "execution": {
     "iopub.execute_input": "2025-05-05T16:46:31.808990Z",
     "iopub.status.busy": "2025-05-05T16:46:31.808648Z",
     "iopub.status.idle": "2025-05-05T16:46:31.824736Z",
     "shell.execute_reply": "2025-05-05T16:46:31.823635Z"
    },
    "papermill": {
     "duration": 0.026604,
     "end_time": "2025-05-05T16:46:31.826578",
     "exception": false,
     "start_time": "2025-05-05T16:46:31.799974",
     "status": "completed"
    },
    "tags": []
   },
   "outputs": [],
   "source": [
    "model.compile(loss = 'binary_crossentropy', optimizer = 'Adam', metrics = ['accuracy'])"
   ]
  },
  {
   "cell_type": "markdown",
   "id": "c97fb957",
   "metadata": {
    "papermill": {
     "duration": 0.0077,
     "end_time": "2025-05-05T16:46:31.841990",
     "exception": false,
     "start_time": "2025-05-05T16:46:31.834290",
     "status": "completed"
    },
    "tags": []
   },
   "source": [
    "here validation_split doing is it is splitting the 8000 training data with 20% saperate and model will run on 8000 - these 20% of data along with that it will test on these 20% data and will tell the accuracy \n",
    "\n",
    "this is also a good method to validate the performance of our model"
   ]
  },
  {
   "cell_type": "code",
   "execution_count": 21,
   "id": "13ab96dd",
   "metadata": {
    "execution": {
     "iopub.execute_input": "2025-05-05T16:46:31.858113Z",
     "iopub.status.busy": "2025-05-05T16:46:31.857806Z",
     "iopub.status.idle": "2025-05-05T16:47:19.819615Z",
     "shell.execute_reply": "2025-05-05T16:47:19.818441Z"
    },
    "papermill": {
     "duration": 47.972123,
     "end_time": "2025-05-05T16:47:19.821531",
     "exception": false,
     "start_time": "2025-05-05T16:46:31.849408",
     "status": "completed"
    },
    "tags": []
   },
   "outputs": [
    {
     "name": "stdout",
     "output_type": "stream",
     "text": [
      "Epoch 1/100\n",
      "\u001b[1m200/200\u001b[0m \u001b[32m━━━━━━━━━━━━━━━━━━━━\u001b[0m\u001b[37m\u001b[0m \u001b[1m3s\u001b[0m 3ms/step - accuracy: 0.6542 - loss: 0.6328 - val_accuracy: 0.7975 - val_loss: 0.4640\n",
      "Epoch 2/100\n",
      "\u001b[1m200/200\u001b[0m \u001b[32m━━━━━━━━━━━━━━━━━━━━\u001b[0m\u001b[37m\u001b[0m \u001b[1m1s\u001b[0m 2ms/step - accuracy: 0.8020 - loss: 0.4473 - val_accuracy: 0.8069 - val_loss: 0.4356\n",
      "Epoch 3/100\n",
      "\u001b[1m200/200\u001b[0m \u001b[32m━━━━━━━━━━━━━━━━━━━━\u001b[0m\u001b[37m\u001b[0m \u001b[1m1s\u001b[0m 4ms/step - accuracy: 0.8185 - loss: 0.4264 - val_accuracy: 0.8087 - val_loss: 0.4197\n",
      "Epoch 4/100\n",
      "\u001b[1m200/200\u001b[0m \u001b[32m━━━━━━━━━━━━━━━━━━━━\u001b[0m\u001b[37m\u001b[0m \u001b[1m1s\u001b[0m 3ms/step - accuracy: 0.8317 - loss: 0.4138 - val_accuracy: 0.8213 - val_loss: 0.4070\n",
      "Epoch 5/100\n",
      "\u001b[1m200/200\u001b[0m \u001b[32m━━━━━━━━━━━━━━━━━━━━\u001b[0m\u001b[37m\u001b[0m \u001b[1m0s\u001b[0m 2ms/step - accuracy: 0.8423 - loss: 0.3935 - val_accuracy: 0.8394 - val_loss: 0.3946\n",
      "Epoch 6/100\n",
      "\u001b[1m200/200\u001b[0m \u001b[32m━━━━━━━━━━━━━━━━━━━━\u001b[0m\u001b[37m\u001b[0m \u001b[1m0s\u001b[0m 2ms/step - accuracy: 0.8468 - loss: 0.3885 - val_accuracy: 0.8413 - val_loss: 0.3825\n",
      "Epoch 7/100\n",
      "\u001b[1m200/200\u001b[0m \u001b[32m━━━━━━━━━━━━━━━━━━━━\u001b[0m\u001b[37m\u001b[0m \u001b[1m0s\u001b[0m 2ms/step - accuracy: 0.8462 - loss: 0.3775 - val_accuracy: 0.8487 - val_loss: 0.3727\n",
      "Epoch 8/100\n",
      "\u001b[1m200/200\u001b[0m \u001b[32m━━━━━━━━━━━━━━━━━━━━\u001b[0m\u001b[37m\u001b[0m \u001b[1m0s\u001b[0m 2ms/step - accuracy: 0.8552 - loss: 0.3613 - val_accuracy: 0.8512 - val_loss: 0.3658\n",
      "Epoch 9/100\n",
      "\u001b[1m200/200\u001b[0m \u001b[32m━━━━━━━━━━━━━━━━━━━━\u001b[0m\u001b[37m\u001b[0m \u001b[1m0s\u001b[0m 2ms/step - accuracy: 0.8562 - loss: 0.3625 - val_accuracy: 0.8525 - val_loss: 0.3617\n",
      "Epoch 10/100\n",
      "\u001b[1m200/200\u001b[0m \u001b[32m━━━━━━━━━━━━━━━━━━━━\u001b[0m\u001b[37m\u001b[0m \u001b[1m1s\u001b[0m 2ms/step - accuracy: 0.8538 - loss: 0.3626 - val_accuracy: 0.8544 - val_loss: 0.3599\n",
      "Epoch 11/100\n",
      "\u001b[1m200/200\u001b[0m \u001b[32m━━━━━━━━━━━━━━━━━━━━\u001b[0m\u001b[37m\u001b[0m \u001b[1m1s\u001b[0m 2ms/step - accuracy: 0.8570 - loss: 0.3563 - val_accuracy: 0.8525 - val_loss: 0.3574\n",
      "Epoch 12/100\n",
      "\u001b[1m200/200\u001b[0m \u001b[32m━━━━━━━━━━━━━━━━━━━━\u001b[0m\u001b[37m\u001b[0m \u001b[1m1s\u001b[0m 3ms/step - accuracy: 0.8616 - loss: 0.3491 - val_accuracy: 0.8519 - val_loss: 0.3540\n",
      "Epoch 13/100\n",
      "\u001b[1m200/200\u001b[0m \u001b[32m━━━━━━━━━━━━━━━━━━━━\u001b[0m\u001b[37m\u001b[0m \u001b[1m0s\u001b[0m 2ms/step - accuracy: 0.8598 - loss: 0.3484 - val_accuracy: 0.8512 - val_loss: 0.3544\n",
      "Epoch 14/100\n",
      "\u001b[1m200/200\u001b[0m \u001b[32m━━━━━━━━━━━━━━━━━━━━\u001b[0m\u001b[37m\u001b[0m \u001b[1m1s\u001b[0m 3ms/step - accuracy: 0.8579 - loss: 0.3505 - val_accuracy: 0.8506 - val_loss: 0.3550\n",
      "Epoch 15/100\n",
      "\u001b[1m200/200\u001b[0m \u001b[32m━━━━━━━━━━━━━━━━━━━━\u001b[0m\u001b[37m\u001b[0m \u001b[1m1s\u001b[0m 2ms/step - accuracy: 0.8620 - loss: 0.3429 - val_accuracy: 0.8512 - val_loss: 0.3518\n",
      "Epoch 16/100\n",
      "\u001b[1m200/200\u001b[0m \u001b[32m━━━━━━━━━━━━━━━━━━━━\u001b[0m\u001b[37m\u001b[0m \u001b[1m0s\u001b[0m 2ms/step - accuracy: 0.8594 - loss: 0.3518 - val_accuracy: 0.8544 - val_loss: 0.3527\n",
      "Epoch 17/100\n",
      "\u001b[1m200/200\u001b[0m \u001b[32m━━━━━━━━━━━━━━━━━━━━\u001b[0m\u001b[37m\u001b[0m \u001b[1m0s\u001b[0m 2ms/step - accuracy: 0.8558 - loss: 0.3407 - val_accuracy: 0.8519 - val_loss: 0.3517\n",
      "Epoch 18/100\n",
      "\u001b[1m200/200\u001b[0m \u001b[32m━━━━━━━━━━━━━━━━━━━━\u001b[0m\u001b[37m\u001b[0m \u001b[1m0s\u001b[0m 2ms/step - accuracy: 0.8531 - loss: 0.3533 - val_accuracy: 0.8537 - val_loss: 0.3517\n",
      "Epoch 19/100\n",
      "\u001b[1m200/200\u001b[0m \u001b[32m━━━━━━━━━━━━━━━━━━━━\u001b[0m\u001b[37m\u001b[0m \u001b[1m0s\u001b[0m 2ms/step - accuracy: 0.8684 - loss: 0.3302 - val_accuracy: 0.8544 - val_loss: 0.3509\n",
      "Epoch 20/100\n",
      "\u001b[1m200/200\u001b[0m \u001b[32m━━━━━━━━━━━━━━━━━━━━\u001b[0m\u001b[37m\u001b[0m \u001b[1m0s\u001b[0m 2ms/step - accuracy: 0.8537 - loss: 0.3536 - val_accuracy: 0.8525 - val_loss: 0.3523\n",
      "Epoch 21/100\n",
      "\u001b[1m200/200\u001b[0m \u001b[32m━━━━━━━━━━━━━━━━━━━━\u001b[0m\u001b[37m\u001b[0m \u001b[1m0s\u001b[0m 2ms/step - accuracy: 0.8637 - loss: 0.3331 - val_accuracy: 0.8550 - val_loss: 0.3511\n",
      "Epoch 22/100\n",
      "\u001b[1m200/200\u001b[0m \u001b[32m━━━━━━━━━━━━━━━━━━━━\u001b[0m\u001b[37m\u001b[0m \u001b[1m0s\u001b[0m 2ms/step - accuracy: 0.8625 - loss: 0.3358 - val_accuracy: 0.8462 - val_loss: 0.3562\n",
      "Epoch 23/100\n",
      "\u001b[1m200/200\u001b[0m \u001b[32m━━━━━━━━━━━━━━━━━━━━\u001b[0m\u001b[37m\u001b[0m \u001b[1m0s\u001b[0m 2ms/step - accuracy: 0.8570 - loss: 0.3440 - val_accuracy: 0.8544 - val_loss: 0.3508\n",
      "Epoch 24/100\n",
      "\u001b[1m200/200\u001b[0m \u001b[32m━━━━━━━━━━━━━━━━━━━━\u001b[0m\u001b[37m\u001b[0m \u001b[1m0s\u001b[0m 2ms/step - accuracy: 0.8671 - loss: 0.3330 - val_accuracy: 0.8550 - val_loss: 0.3494\n",
      "Epoch 25/100\n",
      "\u001b[1m200/200\u001b[0m \u001b[32m━━━━━━━━━━━━━━━━━━━━\u001b[0m\u001b[37m\u001b[0m \u001b[1m1s\u001b[0m 2ms/step - accuracy: 0.8681 - loss: 0.3333 - val_accuracy: 0.8506 - val_loss: 0.3507\n",
      "Epoch 26/100\n",
      "\u001b[1m200/200\u001b[0m \u001b[32m━━━━━━━━━━━━━━━━━━━━\u001b[0m\u001b[37m\u001b[0m \u001b[1m0s\u001b[0m 2ms/step - accuracy: 0.8671 - loss: 0.3337 - val_accuracy: 0.8487 - val_loss: 0.3514\n",
      "Epoch 27/100\n",
      "\u001b[1m200/200\u001b[0m \u001b[32m━━━━━━━━━━━━━━━━━━━━\u001b[0m\u001b[37m\u001b[0m \u001b[1m0s\u001b[0m 2ms/step - accuracy: 0.8623 - loss: 0.3391 - val_accuracy: 0.8556 - val_loss: 0.3494\n",
      "Epoch 28/100\n",
      "\u001b[1m200/200\u001b[0m \u001b[32m━━━━━━━━━━━━━━━━━━━━\u001b[0m\u001b[37m\u001b[0m \u001b[1m0s\u001b[0m 2ms/step - accuracy: 0.8637 - loss: 0.3382 - val_accuracy: 0.8537 - val_loss: 0.3482\n",
      "Epoch 29/100\n",
      "\u001b[1m200/200\u001b[0m \u001b[32m━━━━━━━━━━━━━━━━━━━━\u001b[0m\u001b[37m\u001b[0m \u001b[1m0s\u001b[0m 2ms/step - accuracy: 0.8611 - loss: 0.3330 - val_accuracy: 0.8556 - val_loss: 0.3490\n",
      "Epoch 30/100\n",
      "\u001b[1m200/200\u001b[0m \u001b[32m━━━━━━━━━━━━━━━━━━━━\u001b[0m\u001b[37m\u001b[0m \u001b[1m0s\u001b[0m 2ms/step - accuracy: 0.8651 - loss: 0.3268 - val_accuracy: 0.8512 - val_loss: 0.3482\n",
      "Epoch 31/100\n",
      "\u001b[1m200/200\u001b[0m \u001b[32m━━━━━━━━━━━━━━━━━━━━\u001b[0m\u001b[37m\u001b[0m \u001b[1m0s\u001b[0m 2ms/step - accuracy: 0.8644 - loss: 0.3237 - val_accuracy: 0.8569 - val_loss: 0.3501\n",
      "Epoch 32/100\n",
      "\u001b[1m200/200\u001b[0m \u001b[32m━━━━━━━━━━━━━━━━━━━━\u001b[0m\u001b[37m\u001b[0m \u001b[1m1s\u001b[0m 3ms/step - accuracy: 0.8613 - loss: 0.3293 - val_accuracy: 0.8469 - val_loss: 0.3498\n",
      "Epoch 33/100\n",
      "\u001b[1m200/200\u001b[0m \u001b[32m━━━━━━━━━━━━━━━━━━━━\u001b[0m\u001b[37m\u001b[0m \u001b[1m1s\u001b[0m 2ms/step - accuracy: 0.8668 - loss: 0.3335 - val_accuracy: 0.8487 - val_loss: 0.3502\n",
      "Epoch 34/100\n",
      "\u001b[1m200/200\u001b[0m \u001b[32m━━━━━━━━━━━━━━━━━━━━\u001b[0m\u001b[37m\u001b[0m \u001b[1m0s\u001b[0m 2ms/step - accuracy: 0.8707 - loss: 0.3279 - val_accuracy: 0.8550 - val_loss: 0.3467\n",
      "Epoch 35/100\n",
      "\u001b[1m200/200\u001b[0m \u001b[32m━━━━━━━━━━━━━━━━━━━━\u001b[0m\u001b[37m\u001b[0m \u001b[1m0s\u001b[0m 2ms/step - accuracy: 0.8681 - loss: 0.3272 - val_accuracy: 0.8537 - val_loss: 0.3485\n",
      "Epoch 36/100\n",
      "\u001b[1m200/200\u001b[0m \u001b[32m━━━━━━━━━━━━━━━━━━━━\u001b[0m\u001b[37m\u001b[0m \u001b[1m1s\u001b[0m 2ms/step - accuracy: 0.8643 - loss: 0.3351 - val_accuracy: 0.8531 - val_loss: 0.3483\n",
      "Epoch 37/100\n",
      "\u001b[1m200/200\u001b[0m \u001b[32m━━━━━━━━━━━━━━━━━━━━\u001b[0m\u001b[37m\u001b[0m \u001b[1m1s\u001b[0m 2ms/step - accuracy: 0.8690 - loss: 0.3339 - val_accuracy: 0.8506 - val_loss: 0.3486\n",
      "Epoch 38/100\n",
      "\u001b[1m200/200\u001b[0m \u001b[32m━━━━━━━━━━━━━━━━━━━━\u001b[0m\u001b[37m\u001b[0m \u001b[1m0s\u001b[0m 2ms/step - accuracy: 0.8629 - loss: 0.3307 - val_accuracy: 0.8525 - val_loss: 0.3492\n",
      "Epoch 39/100\n",
      "\u001b[1m200/200\u001b[0m \u001b[32m━━━━━━━━━━━━━━━━━━━━\u001b[0m\u001b[37m\u001b[0m \u001b[1m0s\u001b[0m 2ms/step - accuracy: 0.8615 - loss: 0.3386 - val_accuracy: 0.8519 - val_loss: 0.3481\n",
      "Epoch 40/100\n",
      "\u001b[1m200/200\u001b[0m \u001b[32m━━━━━━━━━━━━━━━━━━━━\u001b[0m\u001b[37m\u001b[0m \u001b[1m0s\u001b[0m 2ms/step - accuracy: 0.8675 - loss: 0.3279 - val_accuracy: 0.8462 - val_loss: 0.3515\n",
      "Epoch 41/100\n",
      "\u001b[1m200/200\u001b[0m \u001b[32m━━━━━━━━━━━━━━━━━━━━\u001b[0m\u001b[37m\u001b[0m \u001b[1m0s\u001b[0m 2ms/step - accuracy: 0.8681 - loss: 0.3258 - val_accuracy: 0.8494 - val_loss: 0.3502\n",
      "Epoch 42/100\n",
      "\u001b[1m200/200\u001b[0m \u001b[32m━━━━━━━━━━━━━━━━━━━━\u001b[0m\u001b[37m\u001b[0m \u001b[1m0s\u001b[0m 2ms/step - accuracy: 0.8587 - loss: 0.3459 - val_accuracy: 0.8481 - val_loss: 0.3515\n",
      "Epoch 43/100\n",
      "\u001b[1m200/200\u001b[0m \u001b[32m━━━━━━━━━━━━━━━━━━━━\u001b[0m\u001b[37m\u001b[0m \u001b[1m0s\u001b[0m 2ms/step - accuracy: 0.8668 - loss: 0.3319 - val_accuracy: 0.8512 - val_loss: 0.3454\n",
      "Epoch 44/100\n",
      "\u001b[1m200/200\u001b[0m \u001b[32m━━━━━━━━━━━━━━━━━━━━\u001b[0m\u001b[37m\u001b[0m \u001b[1m0s\u001b[0m 2ms/step - accuracy: 0.8643 - loss: 0.3337 - val_accuracy: 0.8531 - val_loss: 0.3482\n",
      "Epoch 45/100\n",
      "\u001b[1m200/200\u001b[0m \u001b[32m━━━━━━━━━━━━━━━━━━━━\u001b[0m\u001b[37m\u001b[0m \u001b[1m0s\u001b[0m 2ms/step - accuracy: 0.8639 - loss: 0.3327 - val_accuracy: 0.8456 - val_loss: 0.3536\n",
      "Epoch 46/100\n",
      "\u001b[1m200/200\u001b[0m \u001b[32m━━━━━━━━━━━━━━━━━━━━\u001b[0m\u001b[37m\u001b[0m \u001b[1m0s\u001b[0m 2ms/step - accuracy: 0.8632 - loss: 0.3305 - val_accuracy: 0.8519 - val_loss: 0.3472\n",
      "Epoch 47/100\n",
      "\u001b[1m200/200\u001b[0m \u001b[32m━━━━━━━━━━━━━━━━━━━━\u001b[0m\u001b[37m\u001b[0m \u001b[1m0s\u001b[0m 2ms/step - accuracy: 0.8652 - loss: 0.3294 - val_accuracy: 0.8487 - val_loss: 0.3496\n",
      "Epoch 48/100\n",
      "\u001b[1m200/200\u001b[0m \u001b[32m━━━━━━━━━━━━━━━━━━━━\u001b[0m\u001b[37m\u001b[0m \u001b[1m0s\u001b[0m 2ms/step - accuracy: 0.8654 - loss: 0.3268 - val_accuracy: 0.8506 - val_loss: 0.3473\n",
      "Epoch 49/100\n",
      "\u001b[1m200/200\u001b[0m \u001b[32m━━━━━━━━━━━━━━━━━━━━\u001b[0m\u001b[37m\u001b[0m \u001b[1m0s\u001b[0m 2ms/step - accuracy: 0.8726 - loss: 0.3244 - val_accuracy: 0.8494 - val_loss: 0.3477\n",
      "Epoch 50/100\n",
      "\u001b[1m200/200\u001b[0m \u001b[32m━━━━━━━━━━━━━━━━━━━━\u001b[0m\u001b[37m\u001b[0m \u001b[1m0s\u001b[0m 2ms/step - accuracy: 0.8659 - loss: 0.3305 - val_accuracy: 0.8494 - val_loss: 0.3487\n",
      "Epoch 51/100\n",
      "\u001b[1m200/200\u001b[0m \u001b[32m━━━━━━━━━━━━━━━━━━━━\u001b[0m\u001b[37m\u001b[0m \u001b[1m0s\u001b[0m 2ms/step - accuracy: 0.8640 - loss: 0.3297 - val_accuracy: 0.8462 - val_loss: 0.3545\n",
      "Epoch 52/100\n",
      "\u001b[1m200/200\u001b[0m \u001b[32m━━━━━━━━━━━━━━━━━━━━\u001b[0m\u001b[37m\u001b[0m \u001b[1m0s\u001b[0m 2ms/step - accuracy: 0.8692 - loss: 0.3366 - val_accuracy: 0.8531 - val_loss: 0.3463\n",
      "Epoch 53/100\n",
      "\u001b[1m200/200\u001b[0m \u001b[32m━━━━━━━━━━━━━━━━━━━━\u001b[0m\u001b[37m\u001b[0m \u001b[1m0s\u001b[0m 2ms/step - accuracy: 0.8685 - loss: 0.3195 - val_accuracy: 0.8469 - val_loss: 0.3478\n",
      "Epoch 54/100\n",
      "\u001b[1m200/200\u001b[0m \u001b[32m━━━━━━━━━━━━━━━━━━━━\u001b[0m\u001b[37m\u001b[0m \u001b[1m0s\u001b[0m 2ms/step - accuracy: 0.8639 - loss: 0.3256 - val_accuracy: 0.8512 - val_loss: 0.3473\n",
      "Epoch 55/100\n",
      "\u001b[1m200/200\u001b[0m \u001b[32m━━━━━━━━━━━━━━━━━━━━\u001b[0m\u001b[37m\u001b[0m \u001b[1m0s\u001b[0m 2ms/step - accuracy: 0.8631 - loss: 0.3348 - val_accuracy: 0.8512 - val_loss: 0.3472\n",
      "Epoch 56/100\n",
      "\u001b[1m200/200\u001b[0m \u001b[32m━━━━━━━━━━━━━━━━━━━━\u001b[0m\u001b[37m\u001b[0m \u001b[1m0s\u001b[0m 2ms/step - accuracy: 0.8522 - loss: 0.3472 - val_accuracy: 0.8525 - val_loss: 0.3460\n",
      "Epoch 57/100\n",
      "\u001b[1m200/200\u001b[0m \u001b[32m━━━━━━━━━━━━━━━━━━━━\u001b[0m\u001b[37m\u001b[0m \u001b[1m0s\u001b[0m 2ms/step - accuracy: 0.8660 - loss: 0.3266 - val_accuracy: 0.8487 - val_loss: 0.3484\n",
      "Epoch 58/100\n",
      "\u001b[1m200/200\u001b[0m \u001b[32m━━━━━━━━━━━━━━━━━━━━\u001b[0m\u001b[37m\u001b[0m \u001b[1m0s\u001b[0m 2ms/step - accuracy: 0.8652 - loss: 0.3309 - val_accuracy: 0.8475 - val_loss: 0.3498\n",
      "Epoch 59/100\n",
      "\u001b[1m200/200\u001b[0m \u001b[32m━━━━━━━━━━━━━━━━━━━━\u001b[0m\u001b[37m\u001b[0m \u001b[1m0s\u001b[0m 2ms/step - accuracy: 0.8655 - loss: 0.3266 - val_accuracy: 0.8462 - val_loss: 0.3461\n",
      "Epoch 60/100\n",
      "\u001b[1m200/200\u001b[0m \u001b[32m━━━━━━━━━━━━━━━━━━━━\u001b[0m\u001b[37m\u001b[0m \u001b[1m0s\u001b[0m 2ms/step - accuracy: 0.8630 - loss: 0.3326 - val_accuracy: 0.8494 - val_loss: 0.3483\n",
      "Epoch 61/100\n",
      "\u001b[1m200/200\u001b[0m \u001b[32m━━━━━━━━━━━━━━━━━━━━\u001b[0m\u001b[37m\u001b[0m \u001b[1m0s\u001b[0m 2ms/step - accuracy: 0.8657 - loss: 0.3286 - val_accuracy: 0.8506 - val_loss: 0.3471\n",
      "Epoch 62/100\n",
      "\u001b[1m200/200\u001b[0m \u001b[32m━━━━━━━━━━━━━━━━━━━━\u001b[0m\u001b[37m\u001b[0m \u001b[1m0s\u001b[0m 2ms/step - accuracy: 0.8653 - loss: 0.3271 - val_accuracy: 0.8494 - val_loss: 0.3486\n",
      "Epoch 63/100\n",
      "\u001b[1m200/200\u001b[0m \u001b[32m━━━━━━━━━━━━━━━━━━━━\u001b[0m\u001b[37m\u001b[0m \u001b[1m0s\u001b[0m 2ms/step - accuracy: 0.8686 - loss: 0.3220 - val_accuracy: 0.8500 - val_loss: 0.3479\n",
      "Epoch 64/100\n",
      "\u001b[1m200/200\u001b[0m \u001b[32m━━━━━━━━━━━━━━━━━━━━\u001b[0m\u001b[37m\u001b[0m \u001b[1m0s\u001b[0m 2ms/step - accuracy: 0.8679 - loss: 0.3209 - val_accuracy: 0.8494 - val_loss: 0.3475\n",
      "Epoch 65/100\n",
      "\u001b[1m200/200\u001b[0m \u001b[32m━━━━━━━━━━━━━━━━━━━━\u001b[0m\u001b[37m\u001b[0m \u001b[1m0s\u001b[0m 2ms/step - accuracy: 0.8637 - loss: 0.3279 - val_accuracy: 0.8506 - val_loss: 0.3482\n",
      "Epoch 66/100\n",
      "\u001b[1m200/200\u001b[0m \u001b[32m━━━━━━━━━━━━━━━━━━━━\u001b[0m\u001b[37m\u001b[0m \u001b[1m0s\u001b[0m 2ms/step - accuracy: 0.8723 - loss: 0.3203 - val_accuracy: 0.8475 - val_loss: 0.3488\n",
      "Epoch 67/100\n",
      "\u001b[1m200/200\u001b[0m \u001b[32m━━━━━━━━━━━━━━━━━━━━\u001b[0m\u001b[37m\u001b[0m \u001b[1m0s\u001b[0m 2ms/step - accuracy: 0.8639 - loss: 0.3224 - val_accuracy: 0.8512 - val_loss: 0.3475\n",
      "Epoch 68/100\n",
      "\u001b[1m200/200\u001b[0m \u001b[32m━━━━━━━━━━━━━━━━━━━━\u001b[0m\u001b[37m\u001b[0m \u001b[1m0s\u001b[0m 2ms/step - accuracy: 0.8608 - loss: 0.3324 - val_accuracy: 0.8481 - val_loss: 0.3499\n",
      "Epoch 69/100\n",
      "\u001b[1m200/200\u001b[0m \u001b[32m━━━━━━━━━━━━━━━━━━━━\u001b[0m\u001b[37m\u001b[0m \u001b[1m0s\u001b[0m 2ms/step - accuracy: 0.8674 - loss: 0.3256 - val_accuracy: 0.8450 - val_loss: 0.3485\n",
      "Epoch 70/100\n",
      "\u001b[1m200/200\u001b[0m \u001b[32m━━━━━━━━━━━━━━━━━━━━\u001b[0m\u001b[37m\u001b[0m \u001b[1m0s\u001b[0m 2ms/step - accuracy: 0.8651 - loss: 0.3241 - val_accuracy: 0.8456 - val_loss: 0.3508\n",
      "Epoch 71/100\n",
      "\u001b[1m200/200\u001b[0m \u001b[32m━━━━━━━━━━━━━━━━━━━━\u001b[0m\u001b[37m\u001b[0m \u001b[1m0s\u001b[0m 2ms/step - accuracy: 0.8707 - loss: 0.3236 - val_accuracy: 0.8469 - val_loss: 0.3482\n",
      "Epoch 72/100\n",
      "\u001b[1m200/200\u001b[0m \u001b[32m━━━━━━━━━━━━━━━━━━━━\u001b[0m\u001b[37m\u001b[0m \u001b[1m0s\u001b[0m 2ms/step - accuracy: 0.8621 - loss: 0.3297 - val_accuracy: 0.8450 - val_loss: 0.3474\n",
      "Epoch 73/100\n",
      "\u001b[1m200/200\u001b[0m \u001b[32m━━━━━━━━━━━━━━━━━━━━\u001b[0m\u001b[37m\u001b[0m \u001b[1m0s\u001b[0m 2ms/step - accuracy: 0.8713 - loss: 0.3210 - val_accuracy: 0.8469 - val_loss: 0.3482\n",
      "Epoch 74/100\n",
      "\u001b[1m200/200\u001b[0m \u001b[32m━━━━━━━━━━━━━━━━━━━━\u001b[0m\u001b[37m\u001b[0m \u001b[1m0s\u001b[0m 2ms/step - accuracy: 0.8653 - loss: 0.3234 - val_accuracy: 0.8456 - val_loss: 0.3485\n",
      "Epoch 75/100\n",
      "\u001b[1m200/200\u001b[0m \u001b[32m━━━━━━━━━━━━━━━━━━━━\u001b[0m\u001b[37m\u001b[0m \u001b[1m0s\u001b[0m 2ms/step - accuracy: 0.8701 - loss: 0.3233 - val_accuracy: 0.8475 - val_loss: 0.3480\n",
      "Epoch 76/100\n",
      "\u001b[1m200/200\u001b[0m \u001b[32m━━━━━━━━━━━━━━━━━━━━\u001b[0m\u001b[37m\u001b[0m \u001b[1m0s\u001b[0m 2ms/step - accuracy: 0.8746 - loss: 0.3105 - val_accuracy: 0.8469 - val_loss: 0.3482\n",
      "Epoch 77/100\n",
      "\u001b[1m200/200\u001b[0m \u001b[32m━━━━━━━━━━━━━━━━━━━━\u001b[0m\u001b[37m\u001b[0m \u001b[1m0s\u001b[0m 2ms/step - accuracy: 0.8726 - loss: 0.3179 - val_accuracy: 0.8475 - val_loss: 0.3487\n",
      "Epoch 78/100\n",
      "\u001b[1m200/200\u001b[0m \u001b[32m━━━━━━━━━━━━━━━━━━━━\u001b[0m\u001b[37m\u001b[0m \u001b[1m0s\u001b[0m 2ms/step - accuracy: 0.8678 - loss: 0.3183 - val_accuracy: 0.8475 - val_loss: 0.3493\n",
      "Epoch 79/100\n",
      "\u001b[1m200/200\u001b[0m \u001b[32m━━━━━━━━━━━━━━━━━━━━\u001b[0m\u001b[37m\u001b[0m \u001b[1m0s\u001b[0m 2ms/step - accuracy: 0.8641 - loss: 0.3258 - val_accuracy: 0.8456 - val_loss: 0.3481\n",
      "Epoch 80/100\n",
      "\u001b[1m200/200\u001b[0m \u001b[32m━━━━━━━━━━━━━━━━━━━━\u001b[0m\u001b[37m\u001b[0m \u001b[1m0s\u001b[0m 2ms/step - accuracy: 0.8707 - loss: 0.3202 - val_accuracy: 0.8456 - val_loss: 0.3475\n",
      "Epoch 81/100\n",
      "\u001b[1m200/200\u001b[0m \u001b[32m━━━━━━━━━━━━━━━━━━━━\u001b[0m\u001b[37m\u001b[0m \u001b[1m0s\u001b[0m 2ms/step - accuracy: 0.8746 - loss: 0.3160 - val_accuracy: 0.8462 - val_loss: 0.3471\n",
      "Epoch 82/100\n",
      "\u001b[1m200/200\u001b[0m \u001b[32m━━━━━━━━━━━━━━━━━━━━\u001b[0m\u001b[37m\u001b[0m \u001b[1m0s\u001b[0m 2ms/step - accuracy: 0.8637 - loss: 0.3270 - val_accuracy: 0.8456 - val_loss: 0.3485\n",
      "Epoch 83/100\n",
      "\u001b[1m200/200\u001b[0m \u001b[32m━━━━━━━━━━━━━━━━━━━━\u001b[0m\u001b[37m\u001b[0m \u001b[1m0s\u001b[0m 2ms/step - accuracy: 0.8646 - loss: 0.3238 - val_accuracy: 0.8481 - val_loss: 0.3487\n",
      "Epoch 84/100\n",
      "\u001b[1m200/200\u001b[0m \u001b[32m━━━━━━━━━━━━━━━━━━━━\u001b[0m\u001b[37m\u001b[0m \u001b[1m0s\u001b[0m 2ms/step - accuracy: 0.8663 - loss: 0.3153 - val_accuracy: 0.8450 - val_loss: 0.3490\n",
      "Epoch 85/100\n",
      "\u001b[1m200/200\u001b[0m \u001b[32m━━━━━━━━━━━━━━━━━━━━\u001b[0m\u001b[37m\u001b[0m \u001b[1m0s\u001b[0m 2ms/step - accuracy: 0.8636 - loss: 0.3331 - val_accuracy: 0.8475 - val_loss: 0.3469\n",
      "Epoch 86/100\n",
      "\u001b[1m200/200\u001b[0m \u001b[32m━━━━━━━━━━━━━━━━━━━━\u001b[0m\u001b[37m\u001b[0m \u001b[1m0s\u001b[0m 2ms/step - accuracy: 0.8675 - loss: 0.3149 - val_accuracy: 0.8456 - val_loss: 0.3506\n",
      "Epoch 87/100\n",
      "\u001b[1m200/200\u001b[0m \u001b[32m━━━━━━━━━━━━━━━━━━━━\u001b[0m\u001b[37m\u001b[0m \u001b[1m0s\u001b[0m 2ms/step - accuracy: 0.8714 - loss: 0.3242 - val_accuracy: 0.8469 - val_loss: 0.3503\n",
      "Epoch 88/100\n",
      "\u001b[1m200/200\u001b[0m \u001b[32m━━━━━━━━━━━━━━━━━━━━\u001b[0m\u001b[37m\u001b[0m \u001b[1m0s\u001b[0m 2ms/step - accuracy: 0.8657 - loss: 0.3217 - val_accuracy: 0.8475 - val_loss: 0.3474\n",
      "Epoch 89/100\n",
      "\u001b[1m200/200\u001b[0m \u001b[32m━━━━━━━━━━━━━━━━━━━━\u001b[0m\u001b[37m\u001b[0m \u001b[1m0s\u001b[0m 2ms/step - accuracy: 0.8664 - loss: 0.3262 - val_accuracy: 0.8456 - val_loss: 0.3480\n",
      "Epoch 90/100\n",
      "\u001b[1m200/200\u001b[0m \u001b[32m━━━━━━━━━━━━━━━━━━━━\u001b[0m\u001b[37m\u001b[0m \u001b[1m0s\u001b[0m 2ms/step - accuracy: 0.8675 - loss: 0.3240 - val_accuracy: 0.8462 - val_loss: 0.3491\n",
      "Epoch 91/100\n",
      "\u001b[1m200/200\u001b[0m \u001b[32m━━━━━━━━━━━━━━━━━━━━\u001b[0m\u001b[37m\u001b[0m \u001b[1m0s\u001b[0m 2ms/step - accuracy: 0.8728 - loss: 0.3186 - val_accuracy: 0.8431 - val_loss: 0.3482\n",
      "Epoch 92/100\n",
      "\u001b[1m200/200\u001b[0m \u001b[32m━━━━━━━━━━━━━━━━━━━━\u001b[0m\u001b[37m\u001b[0m \u001b[1m0s\u001b[0m 2ms/step - accuracy: 0.8764 - loss: 0.3118 - val_accuracy: 0.8475 - val_loss: 0.3500\n",
      "Epoch 93/100\n",
      "\u001b[1m200/200\u001b[0m \u001b[32m━━━━━━━━━━━━━━━━━━━━\u001b[0m\u001b[37m\u001b[0m \u001b[1m0s\u001b[0m 2ms/step - accuracy: 0.8696 - loss: 0.3192 - val_accuracy: 0.8462 - val_loss: 0.3487\n",
      "Epoch 94/100\n",
      "\u001b[1m200/200\u001b[0m \u001b[32m━━━━━━━━━━━━━━━━━━━━\u001b[0m\u001b[37m\u001b[0m \u001b[1m0s\u001b[0m 2ms/step - accuracy: 0.8673 - loss: 0.3195 - val_accuracy: 0.8456 - val_loss: 0.3492\n",
      "Epoch 95/100\n",
      "\u001b[1m200/200\u001b[0m \u001b[32m━━━━━━━━━━━━━━━━━━━━\u001b[0m\u001b[37m\u001b[0m \u001b[1m0s\u001b[0m 2ms/step - accuracy: 0.8674 - loss: 0.3203 - val_accuracy: 0.8431 - val_loss: 0.3481\n",
      "Epoch 96/100\n",
      "\u001b[1m200/200\u001b[0m \u001b[32m━━━━━━━━━━━━━━━━━━━━\u001b[0m\u001b[37m\u001b[0m \u001b[1m0s\u001b[0m 2ms/step - accuracy: 0.8654 - loss: 0.3316 - val_accuracy: 0.8462 - val_loss: 0.3482\n",
      "Epoch 97/100\n",
      "\u001b[1m200/200\u001b[0m \u001b[32m━━━━━━━━━━━━━━━━━━━━\u001b[0m\u001b[37m\u001b[0m \u001b[1m0s\u001b[0m 2ms/step - accuracy: 0.8639 - loss: 0.3252 - val_accuracy: 0.8450 - val_loss: 0.3483\n",
      "Epoch 98/100\n",
      "\u001b[1m200/200\u001b[0m \u001b[32m━━━━━━━━━━━━━━━━━━━━\u001b[0m\u001b[37m\u001b[0m \u001b[1m0s\u001b[0m 2ms/step - accuracy: 0.8675 - loss: 0.3233 - val_accuracy: 0.8462 - val_loss: 0.3459\n",
      "Epoch 99/100\n",
      "\u001b[1m200/200\u001b[0m \u001b[32m━━━━━━━━━━━━━━━━━━━━\u001b[0m\u001b[37m\u001b[0m \u001b[1m0s\u001b[0m 2ms/step - accuracy: 0.8642 - loss: 0.3216 - val_accuracy: 0.8438 - val_loss: 0.3493\n",
      "Epoch 100/100\n",
      "\u001b[1m200/200\u001b[0m \u001b[32m━━━━━━━━━━━━━━━━━━━━\u001b[0m\u001b[37m\u001b[0m \u001b[1m0s\u001b[0m 2ms/step - accuracy: 0.8737 - loss: 0.3104 - val_accuracy: 0.8438 - val_loss: 0.3480\n"
     ]
    }
   ],
   "source": [
    "history = model.fit(X_train_scaled, y_train, epochs = 100, validation_split = 0.2)"
   ]
  },
  {
   "cell_type": "code",
   "execution_count": 22,
   "id": "c9b67879",
   "metadata": {
    "execution": {
     "iopub.execute_input": "2025-05-05T16:47:19.931733Z",
     "iopub.status.busy": "2025-05-05T16:47:19.931273Z",
     "iopub.status.idle": "2025-05-05T16:47:19.945822Z",
     "shell.execute_reply": "2025-05-05T16:47:19.944806Z"
    },
    "papermill": {
     "duration": 0.071042,
     "end_time": "2025-05-05T16:47:19.947824",
     "exception": false,
     "start_time": "2025-05-05T16:47:19.876782",
     "status": "completed"
    },
    "tags": []
   },
   "outputs": [
    {
     "data": {
      "text/plain": [
       "[array([[-1.07637525e-01,  5.87192103e-02, -2.91602284e-01,\n",
       "         -5.00309527e-01,  2.47138277e-01,  4.52014863e-01,\n",
       "          6.39702499e-01,  9.88470539e-02,  5.05315959e-01,\n",
       "         -5.37887394e-01, -5.83730303e-02],\n",
       "        [ 4.53110278e-01,  5.20956397e-01, -4.94364975e-03,\n",
       "          6.56404972e-01,  6.67030990e-01, -1.32767409e-01,\n",
       "         -5.53786755e-01, -1.93319589e-01,  2.29693383e-01,\n",
       "          3.86922389e-01, -4.70107079e-01],\n",
       "        [-8.59688878e-01, -1.71505705e-01, -3.05387042e-02,\n",
       "         -2.79080383e-02, -1.05337657e-01, -5.55464566e-01,\n",
       "         -4.09103453e-01,  6.38686568e-02, -2.56630540e-01,\n",
       "          1.90853417e-01, -1.97257325e-01],\n",
       "        [ 2.20525503e-01, -6.91620886e-01, -6.03477716e-01,\n",
       "          1.82667777e-01,  1.50224715e-01,  2.12622881e-01,\n",
       "          5.27261905e-02,  6.77350610e-02,  1.73304826e-01,\n",
       "          5.54638982e-01,  4.13927227e-01],\n",
       "        [ 2.04777047e-01, -9.28218067e-02, -2.31825069e-01,\n",
       "          6.64372370e-02, -5.19019179e-02,  4.16749746e-01,\n",
       "          5.33734262e-01,  6.03861548e-02,  2.32149541e-01,\n",
       "          5.76418281e-01,  5.40248573e-01],\n",
       "        [ 2.53541172e-01,  4.71844733e-01,  5.20185411e-01,\n",
       "         -8.69266689e-02, -1.15366042e-01,  1.13173062e-02,\n",
       "          2.78812665e-02, -1.60077751e-01, -2.33891755e-01,\n",
       "          7.35458732e-01, -4.14557338e-01],\n",
       "        [ 7.38177672e-02, -4.95547980e-01, -2.49687880e-01,\n",
       "          5.90407312e-01, -4.98988807e-01,  5.46716869e-01,\n",
       "          5.36820233e-01, -6.40328154e-02,  1.15988918e-01,\n",
       "         -3.59654389e-02,  2.61814613e-02],\n",
       "        [-1.24334879e-01,  5.73918484e-02, -1.03993809e+00,\n",
       "          7.30992973e-01,  4.03292596e-01, -4.74710554e-01,\n",
       "         -8.94916803e-02,  7.92699814e-01,  3.62003803e-01,\n",
       "         -6.25179768e-01, -1.76966980e-01],\n",
       "        [ 1.06591129e+00, -7.31773496e-01,  2.78796315e-01,\n",
       "         -2.82740504e-01, -4.95747477e-01,  3.15660872e-02,\n",
       "         -5.40877521e-01, -2.74407089e-01,  7.69348085e-01,\n",
       "         -2.45016828e-01, -2.03213945e-01],\n",
       "        [-7.96208978e-01,  2.00661466e-01,  5.20001426e-02,\n",
       "         -2.33170852e-01,  1.92759424e-01,  5.00098228e-01,\n",
       "          1.80379212e-01,  1.29199475e-01, -4.16024122e-04,\n",
       "         -8.64428803e-02,  7.98726305e-02],\n",
       "        [-6.38985336e-01,  2.95958426e-02, -7.08273590e-01,\n",
       "          3.40219624e-02, -3.87273550e-01, -9.98854712e-02,\n",
       "          4.64880198e-01,  2.70954650e-02,  4.39434081e-01,\n",
       "         -4.39218283e-01, -1.99338868e-01]], dtype=float32),\n",
       " array([ 0.00221504,  0.17014648,  0.18074349,  0.05279782, -0.24464428,\n",
       "         0.58332694,  0.8574207 ,  0.24347192, -0.29346284, -0.16753745,\n",
       "         0.76747733], dtype=float32)]"
      ]
     },
     "execution_count": 22,
     "metadata": {},
     "output_type": "execute_result"
    }
   ],
   "source": [
    "model.layers[1].get_weights()"
   ]
  },
  {
   "cell_type": "code",
   "execution_count": 23,
   "id": "9c65bd8d",
   "metadata": {
    "execution": {
     "iopub.execute_input": "2025-05-05T16:47:20.052896Z",
     "iopub.status.busy": "2025-05-05T16:47:20.052442Z",
     "iopub.status.idle": "2025-05-05T16:47:20.063799Z",
     "shell.execute_reply": "2025-05-05T16:47:20.062681Z"
    },
    "papermill": {
     "duration": 0.066234,
     "end_time": "2025-05-05T16:47:20.065325",
     "exception": false,
     "start_time": "2025-05-05T16:47:19.999091",
     "status": "completed"
    },
    "tags": []
   },
   "outputs": [
    {
     "data": {
      "text/plain": [
       "[array([[ 3.42333972e-01, -2.37657037e-02, -6.93817258e-01,\n",
       "         -7.04301178e-01, -7.71292001e-02, -1.04220599e-01,\n",
       "         -4.99302298e-02,  9.30063128e-02, -1.17158487e-01,\n",
       "          9.03852433e-02, -8.44642669e-02],\n",
       "        [-5.82711160e-01,  1.04188585e+00,  1.02335787e+00,\n",
       "         -1.73232742e-02, -2.03512594e-01,  3.04876447e-01,\n",
       "         -1.09932318e-01,  8.47491860e-01,  4.09486949e-01,\n",
       "         -3.85910124e-01, -8.35857093e-01],\n",
       "        [-9.87725183e-02, -1.11729108e-01, -2.58730110e-02,\n",
       "          2.70138890e-01, -1.47335887e-01,  2.78839357e-02,\n",
       "          1.41741410e-01,  1.98787600e-01, -6.17183745e-02,\n",
       "         -3.14699829e-01, -1.86301291e-01],\n",
       "        [ 6.47007883e-01,  3.46001312e-02,  5.51490067e-03,\n",
       "         -1.06390655e-01, -2.83812672e-01, -3.37754101e-01,\n",
       "          5.06624766e-02, -8.05439651e-02,  3.38473678e-01,\n",
       "         -2.19282880e-01, -1.29584232e-02],\n",
       "        [ 2.44128495e-01, -2.42980465e-01, -2.01682419e-01,\n",
       "         -6.58430234e-02,  3.44147563e-01, -1.26351798e+00,\n",
       "          2.99274117e-01,  7.24753141e-01,  1.19569969e+00,\n",
       "         -2.92984188e-01,  2.16658264e-02],\n",
       "        [ 4.45931554e-01,  2.55925685e-01, -3.21576208e-01,\n",
       "         -2.04965800e-01,  5.94964802e-01, -9.10553858e-02,\n",
       "         -3.02698344e-01,  3.64631385e-01, -9.71344188e-02,\n",
       "         -3.11410874e-01,  2.00138688e-01],\n",
       "        [ 4.79655921e-01,  4.36859161e-01,  2.89047539e-01,\n",
       "          1.52720168e-01,  5.49805202e-02, -4.77341145e-01,\n",
       "         -9.16377679e-02,  8.18610251e-01, -2.38085732e-01,\n",
       "         -3.49882692e-01, -9.10845339e-01],\n",
       "        [-1.99333802e-01, -2.11921126e-01, -1.31332487e-01,\n",
       "         -5.51608384e-01, -8.21060464e-02,  2.89647989e-02,\n",
       "         -7.79125690e-02, -2.16576308e-02,  8.47940072e-02,\n",
       "          4.53888327e-01, -7.31224939e-02],\n",
       "        [-1.90284569e-02,  2.04370081e-01, -3.20961237e-01,\n",
       "          3.39075595e-01, -3.17834020e-01,  1.71942547e-01,\n",
       "         -5.19537747e-01, -1.28117830e-01, -3.04071933e-01,\n",
       "         -1.53239798e-02,  1.17998496e-01],\n",
       "        [-7.02157974e-01, -3.25167298e-01, -1.20082721e-01,\n",
       "          5.26214004e-01, -4.76426408e-02, -8.33126456e-02,\n",
       "         -4.66808788e-02,  6.65911511e-02, -4.03789505e-02,\n",
       "         -5.79670846e-01, -3.47633600e-01],\n",
       "        [ 3.82680804e-01,  1.63802300e-02,  2.56161004e-01,\n",
       "          3.67598176e-01,  5.02504855e-02,  2.12257519e-01,\n",
       "          4.05926257e-01,  2.08043337e-01, -4.86419834e-02,\n",
       "         -8.60859305e-02,  8.10337486e-04]], dtype=float32),\n",
       " array([ 0.69015545, -0.1444008 , -0.31159663,  0.37145707,  0.74823755,\n",
       "         0.24277195,  0.5871273 , -0.01357622, -0.5639834 ,  0.80324614,\n",
       "         0.6238079 ], dtype=float32)]"
      ]
     },
     "execution_count": 23,
     "metadata": {},
     "output_type": "execute_result"
    }
   ],
   "source": [
    "model.layers[0].get_weights()"
   ]
  },
  {
   "cell_type": "code",
   "execution_count": 24,
   "id": "ddb65647",
   "metadata": {
    "execution": {
     "iopub.execute_input": "2025-05-05T16:47:20.173172Z",
     "iopub.status.busy": "2025-05-05T16:47:20.172287Z",
     "iopub.status.idle": "2025-05-05T16:47:20.514284Z",
     "shell.execute_reply": "2025-05-05T16:47:20.513211Z"
    },
    "papermill": {
     "duration": 0.399684,
     "end_time": "2025-05-05T16:47:20.516182",
     "exception": false,
     "start_time": "2025-05-05T16:47:20.116498",
     "status": "completed"
    },
    "tags": []
   },
   "outputs": [
    {
     "name": "stdout",
     "output_type": "stream",
     "text": [
      "\u001b[1m63/63\u001b[0m \u001b[32m━━━━━━━━━━━━━━━━━━━━\u001b[0m\u001b[37m\u001b[0m \u001b[1m0s\u001b[0m 2ms/step\n"
     ]
    }
   ],
   "source": [
    "y_log = model.predict(X_test_scaled)"
   ]
  },
  {
   "cell_type": "code",
   "execution_count": 25,
   "id": "bbe4776b",
   "metadata": {
    "execution": {
     "iopub.execute_input": "2025-05-05T16:47:20.625116Z",
     "iopub.status.busy": "2025-05-05T16:47:20.623691Z",
     "iopub.status.idle": "2025-05-05T16:47:20.631671Z",
     "shell.execute_reply": "2025-05-05T16:47:20.630567Z"
    },
    "papermill": {
     "duration": 0.063414,
     "end_time": "2025-05-05T16:47:20.633305",
     "exception": false,
     "start_time": "2025-05-05T16:47:20.569891",
     "status": "completed"
    },
    "tags": []
   },
   "outputs": [
    {
     "data": {
      "text/plain": [
       "array([[0.02226767],\n",
       "       [0.11540251],\n",
       "       [0.07135888],\n",
       "       ...,\n",
       "       [0.01691032],\n",
       "       [0.05772566],\n",
       "       [0.44336897]], dtype=float32)"
      ]
     },
     "execution_count": 25,
     "metadata": {},
     "output_type": "execute_result"
    }
   ],
   "source": [
    "y_log "
   ]
  },
  {
   "cell_type": "code",
   "execution_count": 26,
   "id": "aeff7137",
   "metadata": {
    "execution": {
     "iopub.execute_input": "2025-05-05T16:47:20.740182Z",
     "iopub.status.busy": "2025-05-05T16:47:20.739027Z",
     "iopub.status.idle": "2025-05-05T16:47:20.744729Z",
     "shell.execute_reply": "2025-05-05T16:47:20.743593Z"
    },
    "papermill": {
     "duration": 0.059771,
     "end_time": "2025-05-05T16:47:20.746489",
     "exception": false,
     "start_time": "2025-05-05T16:47:20.686718",
     "status": "completed"
    },
    "tags": []
   },
   "outputs": [],
   "source": [
    "y_pred = np.where(y_log>0.5, 1, 0)"
   ]
  },
  {
   "cell_type": "code",
   "execution_count": 27,
   "id": "8caeb90c",
   "metadata": {
    "execution": {
     "iopub.execute_input": "2025-05-05T16:47:20.854171Z",
     "iopub.status.busy": "2025-05-05T16:47:20.853822Z",
     "iopub.status.idle": "2025-05-05T16:47:20.862837Z",
     "shell.execute_reply": "2025-05-05T16:47:20.861984Z"
    },
    "papermill": {
     "duration": 0.064838,
     "end_time": "2025-05-05T16:47:20.864284",
     "exception": false,
     "start_time": "2025-05-05T16:47:20.799446",
     "status": "completed"
    },
    "tags": []
   },
   "outputs": [
    {
     "data": {
      "text/plain": [
       "0.866"
      ]
     },
     "execution_count": 27,
     "metadata": {},
     "output_type": "execute_result"
    }
   ],
   "source": [
    "from sklearn.metrics import accuracy_score\n",
    "accuracy_score(y_test, y_pred)"
   ]
  },
  {
   "cell_type": "markdown",
   "id": "0562c41e",
   "metadata": {
    "papermill": {
     "duration": 0.051992,
     "end_time": "2025-05-05T16:47:20.968345",
     "exception": false,
     "start_time": "2025-05-05T16:47:20.916353",
     "status": "completed"
    },
    "tags": []
   },
   "source": [
    "to increase the accuracy what we can do\n",
    "\n",
    "1 increase the no of epochs\n",
    "\n",
    "2 in the hidden layer we can keep the actiovation function as relu\n",
    "\n",
    "3 inc the no.of nodes in one layer\n",
    "\n",
    "4 inc the no fo layers\n",
    "\n",
    "we have to experimenjt around all of these , basically means hit and trial"
   ]
  },
  {
   "cell_type": "code",
   "execution_count": 28,
   "id": "251cbad4",
   "metadata": {
    "execution": {
     "iopub.execute_input": "2025-05-05T16:47:21.076711Z",
     "iopub.status.busy": "2025-05-05T16:47:21.076336Z",
     "iopub.status.idle": "2025-05-05T16:47:21.084882Z",
     "shell.execute_reply": "2025-05-05T16:47:21.083600Z"
    },
    "papermill": {
     "duration": 0.065002,
     "end_time": "2025-05-05T16:47:21.086399",
     "exception": false,
     "start_time": "2025-05-05T16:47:21.021397",
     "status": "completed"
    },
    "tags": []
   },
   "outputs": [
    {
     "data": {
      "text/plain": [
       "{'accuracy': [0.7487499713897705,\n",
       "  0.8006250262260437,\n",
       "  0.8174999952316284,\n",
       "  0.8329687714576721,\n",
       "  0.8370312452316284,\n",
       "  0.8428124785423279,\n",
       "  0.84765625,\n",
       "  0.8517187237739563,\n",
       "  0.85546875,\n",
       "  0.8545312285423279,\n",
       "  0.8565624952316284,\n",
       "  0.8595312237739563,\n",
       "  0.8584374785423279,\n",
       "  0.858593761920929,\n",
       "  0.8600000143051147,\n",
       "  0.8626562356948853,\n",
       "  0.8606250286102295,\n",
       "  0.8609374761581421,\n",
       "  0.8631250262260437,\n",
       "  0.8618749976158142,\n",
       "  0.8617187738418579,\n",
       "  0.8629687428474426,\n",
       "  0.8617187738418579,\n",
       "  0.8626562356948853,\n",
       "  0.8621875047683716,\n",
       "  0.8631250262260437,\n",
       "  0.862500011920929,\n",
       "  0.8646875023841858,\n",
       "  0.8629687428474426,\n",
       "  0.8631250262260437,\n",
       "  0.8635937571525574,\n",
       "  0.8634374737739563,\n",
       "  0.8651562333106995,\n",
       "  0.8656250238418579,\n",
       "  0.8642187714576721,\n",
       "  0.8645312786102295,\n",
       "  0.8659374713897705,\n",
       "  0.8643749952316284,\n",
       "  0.8650000095367432,\n",
       "  0.8657812476158142,\n",
       "  0.8665624856948853,\n",
       "  0.866406261920929,\n",
       "  0.8646875023841858,\n",
       "  0.8667187690734863,\n",
       "  0.8668749928474426,\n",
       "  0.8660937547683716,\n",
       "  0.8665624856948853,\n",
       "  0.8637499809265137,\n",
       "  0.8673437237739563,\n",
       "  0.8673437237739563,\n",
       "  0.8653125166893005,\n",
       "  0.8659374713897705,\n",
       "  0.8675000071525574,\n",
       "  0.867968738079071,\n",
       "  0.8668749928474426,\n",
       "  0.8645312786102295,\n",
       "  0.8670312762260437,\n",
       "  0.867968738079071,\n",
       "  0.8662499785423279,\n",
       "  0.8665624856948853,\n",
       "  0.8670312762260437,\n",
       "  0.866406261920929,\n",
       "  0.8653125166893005,\n",
       "  0.8668749928474426,\n",
       "  0.8678125143051147,\n",
       "  0.8656250238418579,\n",
       "  0.8650000095367432,\n",
       "  0.8667187690734863,\n",
       "  0.867968738079071,\n",
       "  0.8667187690734863,\n",
       "  0.8671875,\n",
       "  0.8671875,\n",
       "  0.8682812452316284,\n",
       "  0.8667187690734863,\n",
       "  0.8675000071525574,\n",
       "  0.8671875,\n",
       "  0.8670312762260437,\n",
       "  0.8676562309265137,\n",
       "  0.8678125143051147,\n",
       "  0.8671875,\n",
       "  0.8687499761581421,\n",
       "  0.8665624856948853,\n",
       "  0.867968738079071,\n",
       "  0.866406261920929,\n",
       "  0.8670312762260437,\n",
       "  0.866406261920929,\n",
       "  0.8675000071525574,\n",
       "  0.8665624856948853,\n",
       "  0.8671875,\n",
       "  0.8671875,\n",
       "  0.8695312738418579,\n",
       "  0.8698437213897705,\n",
       "  0.867968738079071,\n",
       "  0.8701562285423279,\n",
       "  0.8676562309265137,\n",
       "  0.8696874976158142,\n",
       "  0.8675000071525574,\n",
       "  0.870312511920929,\n",
       "  0.8678125143051147,\n",
       "  0.8695312738418579],\n",
       " 'loss': [0.5396165251731873,\n",
       "  0.44398653507232666,\n",
       "  0.4236229360103607,\n",
       "  0.4112131893634796,\n",
       "  0.3990080952644348,\n",
       "  0.3876437842845917,\n",
       "  0.3770110011100769,\n",
       "  0.3683677017688751,\n",
       "  0.36288851499557495,\n",
       "  0.35832691192626953,\n",
       "  0.35448703169822693,\n",
       "  0.35176849365234375,\n",
       "  0.34990552067756653,\n",
       "  0.347453773021698,\n",
       "  0.34580039978027344,\n",
       "  0.34434834122657776,\n",
       "  0.3434651494026184,\n",
       "  0.34191688895225525,\n",
       "  0.34088245034217834,\n",
       "  0.3405202627182007,\n",
       "  0.33961284160614014,\n",
       "  0.33866387605667114,\n",
       "  0.3383340835571289,\n",
       "  0.3381442129611969,\n",
       "  0.33740195631980896,\n",
       "  0.3365497291088104,\n",
       "  0.3362930417060852,\n",
       "  0.3355577886104584,\n",
       "  0.3353123068809509,\n",
       "  0.33468326926231384,\n",
       "  0.3337714374065399,\n",
       "  0.3342803716659546,\n",
       "  0.3337794542312622,\n",
       "  0.3329453766345978,\n",
       "  0.33344319462776184,\n",
       "  0.3328472077846527,\n",
       "  0.33165648579597473,\n",
       "  0.331863671541214,\n",
       "  0.3318111300468445,\n",
       "  0.3307410478591919,\n",
       "  0.3312532305717468,\n",
       "  0.33046603202819824,\n",
       "  0.33045142889022827,\n",
       "  0.33032843470573425,\n",
       "  0.32972562313079834,\n",
       "  0.32982102036476135,\n",
       "  0.3293108344078064,\n",
       "  0.32919570803642273,\n",
       "  0.3291599750518799,\n",
       "  0.3282458484172821,\n",
       "  0.32745516300201416,\n",
       "  0.3283436596393585,\n",
       "  0.327424556016922,\n",
       "  0.3277871608734131,\n",
       "  0.3267306983470917,\n",
       "  0.3272160589694977,\n",
       "  0.32681259512901306,\n",
       "  0.32687240839004517,\n",
       "  0.3262211084365845,\n",
       "  0.32649075984954834,\n",
       "  0.3261749744415283,\n",
       "  0.3265126347541809,\n",
       "  0.3258225619792938,\n",
       "  0.3263077437877655,\n",
       "  0.3255991041660309,\n",
       "  0.3257312774658203,\n",
       "  0.32534855604171753,\n",
       "  0.32510870695114136,\n",
       "  0.32476383447647095,\n",
       "  0.3251187801361084,\n",
       "  0.3245657682418823,\n",
       "  0.3244742453098297,\n",
       "  0.3244524300098419,\n",
       "  0.3241129219532013,\n",
       "  0.3241458237171173,\n",
       "  0.3237796127796173,\n",
       "  0.3232539892196655,\n",
       "  0.3239281475543976,\n",
       "  0.3235335648059845,\n",
       "  0.3231287896633148,\n",
       "  0.3234463632106781,\n",
       "  0.32255691289901733,\n",
       "  0.3234157860279083,\n",
       "  0.3228803277015686,\n",
       "  0.3224687874317169,\n",
       "  0.3229960501194,\n",
       "  0.3225524127483368,\n",
       "  0.32232093811035156,\n",
       "  0.32276618480682373,\n",
       "  0.3221593499183655,\n",
       "  0.3220003545284271,\n",
       "  0.3213077783584595,\n",
       "  0.32225021719932556,\n",
       "  0.32145264744758606,\n",
       "  0.32196497917175293,\n",
       "  0.32151156663894653,\n",
       "  0.3217615783214569,\n",
       "  0.3213959038257599,\n",
       "  0.3215092122554779,\n",
       "  0.3216255307197571],\n",
       " 'val_accuracy': [0.7975000143051147,\n",
       "  0.8068749904632568,\n",
       "  0.8087499737739563,\n",
       "  0.8212500214576721,\n",
       "  0.8393750190734863,\n",
       "  0.8412500023841858,\n",
       "  0.8487499952316284,\n",
       "  0.8512499928474426,\n",
       "  0.8525000214576721,\n",
       "  0.8543750047683716,\n",
       "  0.8525000214576721,\n",
       "  0.8518750071525574,\n",
       "  0.8512499928474426,\n",
       "  0.8506249785423279,\n",
       "  0.8512499928474426,\n",
       "  0.8543750047683716,\n",
       "  0.8518750071525574,\n",
       "  0.8537499904632568,\n",
       "  0.8543750047683716,\n",
       "  0.8525000214576721,\n",
       "  0.8550000190734863,\n",
       "  0.8462499976158142,\n",
       "  0.8543750047683716,\n",
       "  0.8550000190734863,\n",
       "  0.8506249785423279,\n",
       "  0.8487499952316284,\n",
       "  0.8556249737739563,\n",
       "  0.8537499904632568,\n",
       "  0.8556249737739563,\n",
       "  0.8512499928474426,\n",
       "  0.8568750023841858,\n",
       "  0.846875011920929,\n",
       "  0.8487499952316284,\n",
       "  0.8550000190734863,\n",
       "  0.8537499904632568,\n",
       "  0.8531249761581421,\n",
       "  0.8506249785423279,\n",
       "  0.8525000214576721,\n",
       "  0.8518750071525574,\n",
       "  0.8462499976158142,\n",
       "  0.8493750095367432,\n",
       "  0.8481249809265137,\n",
       "  0.8512499928474426,\n",
       "  0.8531249761581421,\n",
       "  0.8456249833106995,\n",
       "  0.8518750071525574,\n",
       "  0.8487499952316284,\n",
       "  0.8506249785423279,\n",
       "  0.8493750095367432,\n",
       "  0.8493750095367432,\n",
       "  0.8462499976158142,\n",
       "  0.8531249761581421,\n",
       "  0.846875011920929,\n",
       "  0.8512499928474426,\n",
       "  0.8512499928474426,\n",
       "  0.8525000214576721,\n",
       "  0.8487499952316284,\n",
       "  0.8475000262260437,\n",
       "  0.8462499976158142,\n",
       "  0.8493750095367432,\n",
       "  0.8506249785423279,\n",
       "  0.8493750095367432,\n",
       "  0.8500000238418579,\n",
       "  0.8493750095367432,\n",
       "  0.8506249785423279,\n",
       "  0.8475000262260437,\n",
       "  0.8512499928474426,\n",
       "  0.8481249809265137,\n",
       "  0.8450000286102295,\n",
       "  0.8456249833106995,\n",
       "  0.846875011920929,\n",
       "  0.8450000286102295,\n",
       "  0.846875011920929,\n",
       "  0.8456249833106995,\n",
       "  0.8475000262260437,\n",
       "  0.846875011920929,\n",
       "  0.8475000262260437,\n",
       "  0.8475000262260437,\n",
       "  0.8456249833106995,\n",
       "  0.8456249833106995,\n",
       "  0.8462499976158142,\n",
       "  0.8456249833106995,\n",
       "  0.8481249809265137,\n",
       "  0.8450000286102295,\n",
       "  0.8475000262260437,\n",
       "  0.8456249833106995,\n",
       "  0.846875011920929,\n",
       "  0.8475000262260437,\n",
       "  0.8456249833106995,\n",
       "  0.8462499976158142,\n",
       "  0.8431249856948853,\n",
       "  0.8475000262260437,\n",
       "  0.8462499976158142,\n",
       "  0.8456249833106995,\n",
       "  0.8431249856948853,\n",
       "  0.8462499976158142,\n",
       "  0.8450000286102295,\n",
       "  0.8462499976158142,\n",
       "  0.84375,\n",
       "  0.84375],\n",
       " 'val_loss': [0.46398091316223145,\n",
       "  0.4356396496295929,\n",
       "  0.41967320442199707,\n",
       "  0.40702736377716064,\n",
       "  0.3946019411087036,\n",
       "  0.3825228810310364,\n",
       "  0.37268832325935364,\n",
       "  0.3657795786857605,\n",
       "  0.3617077171802521,\n",
       "  0.3599452078342438,\n",
       "  0.3573854863643646,\n",
       "  0.3539804518222809,\n",
       "  0.35439765453338623,\n",
       "  0.35501113533973694,\n",
       "  0.35181576013565063,\n",
       "  0.3527449369430542,\n",
       "  0.35167622566223145,\n",
       "  0.35168009996414185,\n",
       "  0.3509005606174469,\n",
       "  0.35228192806243896,\n",
       "  0.3511175811290741,\n",
       "  0.35624241828918457,\n",
       "  0.35075244307518005,\n",
       "  0.34937384724617004,\n",
       "  0.3506581485271454,\n",
       "  0.3514139950275421,\n",
       "  0.34940049052238464,\n",
       "  0.3481649160385132,\n",
       "  0.3490012288093567,\n",
       "  0.34824833273887634,\n",
       "  0.3501025140285492,\n",
       "  0.34980762004852295,\n",
       "  0.3502084016799927,\n",
       "  0.34665098786354065,\n",
       "  0.3484634459018707,\n",
       "  0.348280668258667,\n",
       "  0.3485546112060547,\n",
       "  0.3492366075515747,\n",
       "  0.3481345474720001,\n",
       "  0.35153427720069885,\n",
       "  0.3502234220504761,\n",
       "  0.35151755809783936,\n",
       "  0.345442533493042,\n",
       "  0.34819117188453674,\n",
       "  0.35357949137687683,\n",
       "  0.34720975160598755,\n",
       "  0.34963881969451904,\n",
       "  0.34730732440948486,\n",
       "  0.3476937413215637,\n",
       "  0.3487040400505066,\n",
       "  0.3545314371585846,\n",
       "  0.34629684686660767,\n",
       "  0.347758948802948,\n",
       "  0.347339391708374,\n",
       "  0.34721770882606506,\n",
       "  0.34600886702537537,\n",
       "  0.34840190410614014,\n",
       "  0.3498174548149109,\n",
       "  0.34613266587257385,\n",
       "  0.34826424717903137,\n",
       "  0.3471190631389618,\n",
       "  0.3486016094684601,\n",
       "  0.34794703125953674,\n",
       "  0.3475395441055298,\n",
       "  0.348160058259964,\n",
       "  0.34876975417137146,\n",
       "  0.34747517108917236,\n",
       "  0.3498859703540802,\n",
       "  0.3484623432159424,\n",
       "  0.35077133774757385,\n",
       "  0.3482290506362915,\n",
       "  0.3473667800426483,\n",
       "  0.34818217158317566,\n",
       "  0.34847408533096313,\n",
       "  0.34802737832069397,\n",
       "  0.3482011556625366,\n",
       "  0.3487330377101898,\n",
       "  0.34926173090934753,\n",
       "  0.34808340668678284,\n",
       "  0.34752994775772095,\n",
       "  0.34710201621055603,\n",
       "  0.3484569191932678,\n",
       "  0.34866973757743835,\n",
       "  0.3490002751350403,\n",
       "  0.3468995988368988,\n",
       "  0.3505769371986389,\n",
       "  0.35027840733528137,\n",
       "  0.34743186831474304,\n",
       "  0.3480203151702881,\n",
       "  0.3491230309009552,\n",
       "  0.34824642539024353,\n",
       "  0.35001030564308167,\n",
       "  0.3486768305301666,\n",
       "  0.3492020070552826,\n",
       "  0.34810614585876465,\n",
       "  0.34815606474876404,\n",
       "  0.34831002354621887,\n",
       "  0.34589409828186035,\n",
       "  0.3492653965950012,\n",
       "  0.34795451164245605]}"
      ]
     },
     "execution_count": 28,
     "metadata": {},
     "output_type": "execute_result"
    }
   ],
   "source": [
    "history.history\n",
    "\n",
    "# dict of our model"
   ]
  },
  {
   "cell_type": "code",
   "execution_count": 29,
   "id": "5b15b817",
   "metadata": {
    "execution": {
     "iopub.execute_input": "2025-05-05T16:47:21.197008Z",
     "iopub.status.busy": "2025-05-05T16:47:21.196707Z",
     "iopub.status.idle": "2025-05-05T16:47:21.472498Z",
     "shell.execute_reply": "2025-05-05T16:47:21.471627Z"
    },
    "papermill": {
     "duration": 0.334449,
     "end_time": "2025-05-05T16:47:21.474516",
     "exception": false,
     "start_time": "2025-05-05T16:47:21.140067",
     "status": "completed"
    },
    "tags": []
   },
   "outputs": [
    {
     "data": {
      "text/plain": [
       "[<matplotlib.lines.Line2D at 0x7c21547e8650>]"
      ]
     },
     "execution_count": 29,
     "metadata": {},
     "output_type": "execute_result"
    },
    {
     "data": {
      "image/png": "[encoded data removed]",
      "text/plain": [
       "<Figure size 640x480 with 1 Axes>"
      ]
     },
     "metadata": {},
     "output_type": "display_data"
    }
   ],
   "source": [
    "import matplotlib.pyplot as plt\n",
    "\n",
    "plt.plot(history.history['loss'])\n",
    "plt.plot(history.history['val_loss'])\n",
    "\n",
    "# from the difference bwtn these plots we can get the idea of the overfitting of data\n",
    "# from the gap btwn these plots"
   ]
  },
  {
   "cell_type": "code",
   "execution_count": 30,
   "id": "93d32984",
   "metadata": {
    "execution": {
     "iopub.execute_input": "2025-05-05T16:47:21.594009Z",
     "iopub.status.busy": "2025-05-05T16:47:21.593635Z",
     "iopub.status.idle": "2025-05-05T16:47:21.791584Z",
     "shell.execute_reply": "2025-05-05T16:47:21.789841Z"
    },
    "papermill": {
     "duration": 0.259533,
     "end_time": "2025-05-05T16:47:21.794163",
     "exception": false,
     "start_time": "2025-05-05T16:47:21.534630",
     "status": "completed"
    },
    "tags": []
   },
   "outputs": [
    {
     "data": {
      "text/plain": [
       "[<matplotlib.lines.Line2D at 0x7c2154e259d0>]"
      ]
     },
     "execution_count": 30,
     "metadata": {},
     "output_type": "execute_result"
    },
    {
     "data": {
      "image/png": "[encoded data removed]",
      "text/plain": [
       "<Figure size 640x480 with 1 Axes>"
      ]
     },
     "metadata": {},
     "output_type": "display_data"
    }
   ],
   "source": [
    "plt.plot(history.history['accuracy'])\n",
    "plt.plot(history.history['val_accuracy'])"
   ]
  },
  {
   "cell_type": "code",
   "execution_count": null,
   "id": "fe29085c",
   "metadata": {
    "papermill": {
     "duration": 0.055934,
     "end_time": "2025-05-05T16:47:21.925902",
     "exception": false,
     "start_time": "2025-05-05T16:47:21.869968",
     "status": "completed"
    },
    "tags": []
   },
   "outputs": [],
   "source": []
  }
 ],
 "metadata": {
  "kaggle": {
   "accelerator": "none",
   "dataSources": [
    {
     "datasetId": 869651,
     "sourceId": 1481789,
     "sourceType": "datasetVersion"
    }
   ],
   "dockerImageVersionId": 31012,
   "isGpuEnabled": false,
   "isInternetEnabled": true,
   "language": "python",
   "sourceType": "notebook"
  },
  "kernelspec": {
   "display_name": "Python 3",
   "language": "python",
   "name": "python3"
  },
  "language_info": {
   "codemirror_mode": {
    "name": "ipython",
    "version": 3
   },
   "file_extension": ".py",
   "mimetype": "text/x-python",
   "name": "python",
   "nbconvert_exporter": "python",
   "pygments_lexer": "ipython3",
   "version": "3.11.11"
  },
  "papermill": {
   "default_parameters": {},
   "duration": 82.321822,
   "end_time": "2025-05-05T16:47:24.776103",
   "environment_variables": {},
   "exception": null,
   "input_path": "__notebook__.ipynb",
   "output_path": "__notebook__.ipynb",
   "parameters": {},
   "start_time": "2025-05-05T16:46:02.454281",
   "version": "2.6.0"
  }
 },
 "nbformat": 4,
 "nbformat_minor": 5
}
